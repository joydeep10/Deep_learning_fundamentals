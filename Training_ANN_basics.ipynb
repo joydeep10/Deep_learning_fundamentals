{
  "nbformat": 4,
  "nbformat_minor": 0,
  "metadata": {
    "colab": {
      "provenance": [],
      "authorship_tag": "ABX9TyOziWF+PJXmw3s/2bQYg+A9"
    },
    "kernelspec": {
      "name": "python3",
      "display_name": "Python 3"
    },
    "language_info": {
      "name": "python"
    }
  },
  "cells": [
    {
      "cell_type": "code",
      "execution_count": null,
      "metadata": {
        "colab": {
          "base_uri": "https://localhost:8080/"
        },
        "id": "aIqaK61ro4nh",
        "outputId": "85d4645f-5e97-4be1-965c-32222d90bd87"
      },
      "outputs": [
        {
          "output_type": "stream",
          "name": "stdout",
          "text": [
            "Requirement already satisfied: tensorflow in /usr/local/lib/python3.10/dist-packages (2.13.0)\n",
            "Requirement already satisfied: absl-py>=1.0.0 in /usr/local/lib/python3.10/dist-packages (from tensorflow) (1.4.0)\n",
            "Requirement already satisfied: astunparse>=1.6.0 in /usr/local/lib/python3.10/dist-packages (from tensorflow) (1.6.3)\n",
            "Requirement already satisfied: flatbuffers>=23.1.21 in /usr/local/lib/python3.10/dist-packages (from tensorflow) (23.5.26)\n",
            "Requirement already satisfied: gast<=0.4.0,>=0.2.1 in /usr/local/lib/python3.10/dist-packages (from tensorflow) (0.4.0)\n",
            "Requirement already satisfied: google-pasta>=0.1.1 in /usr/local/lib/python3.10/dist-packages (from tensorflow) (0.2.0)\n",
            "Requirement already satisfied: grpcio<2.0,>=1.24.3 in /usr/local/lib/python3.10/dist-packages (from tensorflow) (1.57.0)\n",
            "Requirement already satisfied: h5py>=2.9.0 in /usr/local/lib/python3.10/dist-packages (from tensorflow) (3.9.0)\n",
            "Requirement already satisfied: keras<2.14,>=2.13.1 in /usr/local/lib/python3.10/dist-packages (from tensorflow) (2.13.1)\n",
            "Requirement already satisfied: libclang>=13.0.0 in /usr/local/lib/python3.10/dist-packages (from tensorflow) (16.0.6)\n",
            "Requirement already satisfied: numpy<=1.24.3,>=1.22 in /usr/local/lib/python3.10/dist-packages (from tensorflow) (1.23.5)\n",
            "Requirement already satisfied: opt-einsum>=2.3.2 in /usr/local/lib/python3.10/dist-packages (from tensorflow) (3.3.0)\n",
            "Requirement already satisfied: packaging in /usr/local/lib/python3.10/dist-packages (from tensorflow) (23.1)\n",
            "Requirement already satisfied: protobuf!=4.21.0,!=4.21.1,!=4.21.2,!=4.21.3,!=4.21.4,!=4.21.5,<5.0.0dev,>=3.20.3 in /usr/local/lib/python3.10/dist-packages (from tensorflow) (3.20.3)\n",
            "Requirement already satisfied: setuptools in /usr/local/lib/python3.10/dist-packages (from tensorflow) (67.7.2)\n",
            "Requirement already satisfied: six>=1.12.0 in /usr/local/lib/python3.10/dist-packages (from tensorflow) (1.16.0)\n",
            "Requirement already satisfied: tensorboard<2.14,>=2.13 in /usr/local/lib/python3.10/dist-packages (from tensorflow) (2.13.0)\n",
            "Requirement already satisfied: tensorflow-estimator<2.14,>=2.13.0 in /usr/local/lib/python3.10/dist-packages (from tensorflow) (2.13.0)\n",
            "Requirement already satisfied: termcolor>=1.1.0 in /usr/local/lib/python3.10/dist-packages (from tensorflow) (2.3.0)\n",
            "Requirement already satisfied: typing-extensions<4.6.0,>=3.6.6 in /usr/local/lib/python3.10/dist-packages (from tensorflow) (4.5.0)\n",
            "Requirement already satisfied: wrapt>=1.11.0 in /usr/local/lib/python3.10/dist-packages (from tensorflow) (1.15.0)\n",
            "Requirement already satisfied: tensorflow-io-gcs-filesystem>=0.23.1 in /usr/local/lib/python3.10/dist-packages (from tensorflow) (0.33.0)\n",
            "Requirement already satisfied: wheel<1.0,>=0.23.0 in /usr/local/lib/python3.10/dist-packages (from astunparse>=1.6.0->tensorflow) (0.41.2)\n",
            "Requirement already satisfied: google-auth<3,>=1.6.3 in /usr/local/lib/python3.10/dist-packages (from tensorboard<2.14,>=2.13->tensorflow) (2.17.3)\n",
            "Requirement already satisfied: google-auth-oauthlib<1.1,>=0.5 in /usr/local/lib/python3.10/dist-packages (from tensorboard<2.14,>=2.13->tensorflow) (1.0.0)\n",
            "Requirement already satisfied: markdown>=2.6.8 in /usr/local/lib/python3.10/dist-packages (from tensorboard<2.14,>=2.13->tensorflow) (3.4.4)\n",
            "Requirement already satisfied: requests<3,>=2.21.0 in /usr/local/lib/python3.10/dist-packages (from tensorboard<2.14,>=2.13->tensorflow) (2.31.0)\n",
            "Requirement already satisfied: tensorboard-data-server<0.8.0,>=0.7.0 in /usr/local/lib/python3.10/dist-packages (from tensorboard<2.14,>=2.13->tensorflow) (0.7.1)\n",
            "Requirement already satisfied: werkzeug>=1.0.1 in /usr/local/lib/python3.10/dist-packages (from tensorboard<2.14,>=2.13->tensorflow) (2.3.7)\n",
            "Requirement already satisfied: cachetools<6.0,>=2.0.0 in /usr/local/lib/python3.10/dist-packages (from google-auth<3,>=1.6.3->tensorboard<2.14,>=2.13->tensorflow) (5.3.1)\n",
            "Requirement already satisfied: pyasn1-modules>=0.2.1 in /usr/local/lib/python3.10/dist-packages (from google-auth<3,>=1.6.3->tensorboard<2.14,>=2.13->tensorflow) (0.3.0)\n",
            "Requirement already satisfied: rsa<5,>=3.1.4 in /usr/local/lib/python3.10/dist-packages (from google-auth<3,>=1.6.3->tensorboard<2.14,>=2.13->tensorflow) (4.9)\n",
            "Requirement already satisfied: requests-oauthlib>=0.7.0 in /usr/local/lib/python3.10/dist-packages (from google-auth-oauthlib<1.1,>=0.5->tensorboard<2.14,>=2.13->tensorflow) (1.3.1)\n",
            "Requirement already satisfied: charset-normalizer<4,>=2 in /usr/local/lib/python3.10/dist-packages (from requests<3,>=2.21.0->tensorboard<2.14,>=2.13->tensorflow) (3.2.0)\n",
            "Requirement already satisfied: idna<4,>=2.5 in /usr/local/lib/python3.10/dist-packages (from requests<3,>=2.21.0->tensorboard<2.14,>=2.13->tensorflow) (3.4)\n",
            "Requirement already satisfied: urllib3<3,>=1.21.1 in /usr/local/lib/python3.10/dist-packages (from requests<3,>=2.21.0->tensorboard<2.14,>=2.13->tensorflow) (2.0.4)\n",
            "Requirement already satisfied: certifi>=2017.4.17 in /usr/local/lib/python3.10/dist-packages (from requests<3,>=2.21.0->tensorboard<2.14,>=2.13->tensorflow) (2023.7.22)\n",
            "Requirement already satisfied: MarkupSafe>=2.1.1 in /usr/local/lib/python3.10/dist-packages (from werkzeug>=1.0.1->tensorboard<2.14,>=2.13->tensorflow) (2.1.3)\n",
            "Requirement already satisfied: pyasn1<0.6.0,>=0.4.6 in /usr/local/lib/python3.10/dist-packages (from pyasn1-modules>=0.2.1->google-auth<3,>=1.6.3->tensorboard<2.14,>=2.13->tensorflow) (0.5.0)\n",
            "Requirement already satisfied: oauthlib>=3.0.0 in /usr/local/lib/python3.10/dist-packages (from requests-oauthlib>=0.7.0->google-auth-oauthlib<1.1,>=0.5->tensorboard<2.14,>=2.13->tensorflow) (3.2.2)\n"
          ]
        }
      ],
      "source": [
        "!pip install tensorflow"
      ]
    },
    {
      "cell_type": "code",
      "source": [
        "from google.colab import drive\n",
        "drive.mount('/content/drive')"
      ],
      "metadata": {
        "colab": {
          "base_uri": "https://localhost:8080/"
        },
        "id": "x4lVFk1JpHuB",
        "outputId": "06af7f3d-aa8b-4c75-c3ff-9b40706e6ab9"
      },
      "execution_count": null,
      "outputs": [
        {
          "output_type": "stream",
          "name": "stdout",
          "text": [
            "Drive already mounted at /content/drive; to attempt to forcibly remount, call drive.mount(\"/content/drive\", force_remount=True).\n"
          ]
        }
      ]
    },
    {
      "cell_type": "code",
      "source": [
        "import pandas as pd"
      ],
      "metadata": {
        "id": "cwcttWKmpwnR"
      },
      "execution_count": null,
      "outputs": []
    },
    {
      "cell_type": "code",
      "source": [
        "df = pd.read_csv('/content/drive/MyDrive/Deep learning/Churn_Modelling.csv')"
      ],
      "metadata": {
        "id": "DIIO3hL0p11h"
      },
      "execution_count": null,
      "outputs": []
    },
    {
      "cell_type": "code",
      "source": [
        "df.head()"
      ],
      "metadata": {
        "colab": {
          "base_uri": "https://localhost:8080/",
          "height": 206
        },
        "id": "lnD2vQKwqCjx",
        "outputId": "4e1a3736-2ae8-4215-8ca0-68d79a537dbd"
      },
      "execution_count": null,
      "outputs": [
        {
          "output_type": "execute_result",
          "data": {
            "text/plain": [
              "   RowNumber  CustomerId   Surname  CreditScore Geography  Gender  Age  \\\n",
              "0          1    15634602  Hargrave          619    France  Female   42   \n",
              "1          2    15647311      Hill          608     Spain  Female   41   \n",
              "2          3    15619304      Onio          502    France  Female   42   \n",
              "3          4    15701354      Boni          699    France  Female   39   \n",
              "4          5    15737888  Mitchell          850     Spain  Female   43   \n",
              "\n",
              "   Tenure    Balance  NumOfProducts  HasCrCard  IsActiveMember  \\\n",
              "0       2       0.00              1          1               1   \n",
              "1       1   83807.86              1          0               1   \n",
              "2       8  159660.80              3          1               0   \n",
              "3       1       0.00              2          0               0   \n",
              "4       2  125510.82              1          1               1   \n",
              "\n",
              "   EstimatedSalary  Exited  \n",
              "0        101348.88       1  \n",
              "1        112542.58       0  \n",
              "2        113931.57       1  \n",
              "3         93826.63       0  \n",
              "4         79084.10       0  "
            ],
            "text/html": [
              "\n",
              "  <div id=\"df-19a4316c-2692-4ee4-8ee5-9c4866910eea\" class=\"colab-df-container\">\n",
              "    <div>\n",
              "<style scoped>\n",
              "    .dataframe tbody tr th:only-of-type {\n",
              "        vertical-align: middle;\n",
              "    }\n",
              "\n",
              "    .dataframe tbody tr th {\n",
              "        vertical-align: top;\n",
              "    }\n",
              "\n",
              "    .dataframe thead th {\n",
              "        text-align: right;\n",
              "    }\n",
              "</style>\n",
              "<table border=\"1\" class=\"dataframe\">\n",
              "  <thead>\n",
              "    <tr style=\"text-align: right;\">\n",
              "      <th></th>\n",
              "      <th>RowNumber</th>\n",
              "      <th>CustomerId</th>\n",
              "      <th>Surname</th>\n",
              "      <th>CreditScore</th>\n",
              "      <th>Geography</th>\n",
              "      <th>Gender</th>\n",
              "      <th>Age</th>\n",
              "      <th>Tenure</th>\n",
              "      <th>Balance</th>\n",
              "      <th>NumOfProducts</th>\n",
              "      <th>HasCrCard</th>\n",
              "      <th>IsActiveMember</th>\n",
              "      <th>EstimatedSalary</th>\n",
              "      <th>Exited</th>\n",
              "    </tr>\n",
              "  </thead>\n",
              "  <tbody>\n",
              "    <tr>\n",
              "      <th>0</th>\n",
              "      <td>1</td>\n",
              "      <td>15634602</td>\n",
              "      <td>Hargrave</td>\n",
              "      <td>619</td>\n",
              "      <td>France</td>\n",
              "      <td>Female</td>\n",
              "      <td>42</td>\n",
              "      <td>2</td>\n",
              "      <td>0.00</td>\n",
              "      <td>1</td>\n",
              "      <td>1</td>\n",
              "      <td>1</td>\n",
              "      <td>101348.88</td>\n",
              "      <td>1</td>\n",
              "    </tr>\n",
              "    <tr>\n",
              "      <th>1</th>\n",
              "      <td>2</td>\n",
              "      <td>15647311</td>\n",
              "      <td>Hill</td>\n",
              "      <td>608</td>\n",
              "      <td>Spain</td>\n",
              "      <td>Female</td>\n",
              "      <td>41</td>\n",
              "      <td>1</td>\n",
              "      <td>83807.86</td>\n",
              "      <td>1</td>\n",
              "      <td>0</td>\n",
              "      <td>1</td>\n",
              "      <td>112542.58</td>\n",
              "      <td>0</td>\n",
              "    </tr>\n",
              "    <tr>\n",
              "      <th>2</th>\n",
              "      <td>3</td>\n",
              "      <td>15619304</td>\n",
              "      <td>Onio</td>\n",
              "      <td>502</td>\n",
              "      <td>France</td>\n",
              "      <td>Female</td>\n",
              "      <td>42</td>\n",
              "      <td>8</td>\n",
              "      <td>159660.80</td>\n",
              "      <td>3</td>\n",
              "      <td>1</td>\n",
              "      <td>0</td>\n",
              "      <td>113931.57</td>\n",
              "      <td>1</td>\n",
              "    </tr>\n",
              "    <tr>\n",
              "      <th>3</th>\n",
              "      <td>4</td>\n",
              "      <td>15701354</td>\n",
              "      <td>Boni</td>\n",
              "      <td>699</td>\n",
              "      <td>France</td>\n",
              "      <td>Female</td>\n",
              "      <td>39</td>\n",
              "      <td>1</td>\n",
              "      <td>0.00</td>\n",
              "      <td>2</td>\n",
              "      <td>0</td>\n",
              "      <td>0</td>\n",
              "      <td>93826.63</td>\n",
              "      <td>0</td>\n",
              "    </tr>\n",
              "    <tr>\n",
              "      <th>4</th>\n",
              "      <td>5</td>\n",
              "      <td>15737888</td>\n",
              "      <td>Mitchell</td>\n",
              "      <td>850</td>\n",
              "      <td>Spain</td>\n",
              "      <td>Female</td>\n",
              "      <td>43</td>\n",
              "      <td>2</td>\n",
              "      <td>125510.82</td>\n",
              "      <td>1</td>\n",
              "      <td>1</td>\n",
              "      <td>1</td>\n",
              "      <td>79084.10</td>\n",
              "      <td>0</td>\n",
              "    </tr>\n",
              "  </tbody>\n",
              "</table>\n",
              "</div>\n",
              "    <div class=\"colab-df-buttons\">\n",
              "\n",
              "  <div class=\"colab-df-container\">\n",
              "    <button class=\"colab-df-convert\" onclick=\"convertToInteractive('df-19a4316c-2692-4ee4-8ee5-9c4866910eea')\"\n",
              "            title=\"Convert this dataframe to an interactive table.\"\n",
              "            style=\"display:none;\">\n",
              "\n",
              "  <svg xmlns=\"http://www.w3.org/2000/svg\" height=\"24px\" viewBox=\"0 -960 960 960\">\n",
              "    <path d=\"M120-120v-720h720v720H120Zm60-500h600v-160H180v160Zm220 220h160v-160H400v160Zm0 220h160v-160H400v160ZM180-400h160v-160H180v160Zm440 0h160v-160H620v160ZM180-180h160v-160H180v160Zm440 0h160v-160H620v160Z\"/>\n",
              "  </svg>\n",
              "    </button>\n",
              "\n",
              "  <style>\n",
              "    .colab-df-container {\n",
              "      display:flex;\n",
              "      gap: 12px;\n",
              "    }\n",
              "\n",
              "    .colab-df-convert {\n",
              "      background-color: #E8F0FE;\n",
              "      border: none;\n",
              "      border-radius: 50%;\n",
              "      cursor: pointer;\n",
              "      display: none;\n",
              "      fill: #1967D2;\n",
              "      height: 32px;\n",
              "      padding: 0 0 0 0;\n",
              "      width: 32px;\n",
              "    }\n",
              "\n",
              "    .colab-df-convert:hover {\n",
              "      background-color: #E2EBFA;\n",
              "      box-shadow: 0px 1px 2px rgba(60, 64, 67, 0.3), 0px 1px 3px 1px rgba(60, 64, 67, 0.15);\n",
              "      fill: #174EA6;\n",
              "    }\n",
              "\n",
              "    .colab-df-buttons div {\n",
              "      margin-bottom: 4px;\n",
              "    }\n",
              "\n",
              "    [theme=dark] .colab-df-convert {\n",
              "      background-color: #3B4455;\n",
              "      fill: #D2E3FC;\n",
              "    }\n",
              "\n",
              "    [theme=dark] .colab-df-convert:hover {\n",
              "      background-color: #434B5C;\n",
              "      box-shadow: 0px 1px 3px 1px rgba(0, 0, 0, 0.15);\n",
              "      filter: drop-shadow(0px 1px 2px rgba(0, 0, 0, 0.3));\n",
              "      fill: #FFFFFF;\n",
              "    }\n",
              "  </style>\n",
              "\n",
              "    <script>\n",
              "      const buttonEl =\n",
              "        document.querySelector('#df-19a4316c-2692-4ee4-8ee5-9c4866910eea button.colab-df-convert');\n",
              "      buttonEl.style.display =\n",
              "        google.colab.kernel.accessAllowed ? 'block' : 'none';\n",
              "\n",
              "      async function convertToInteractive(key) {\n",
              "        const element = document.querySelector('#df-19a4316c-2692-4ee4-8ee5-9c4866910eea');\n",
              "        const dataTable =\n",
              "          await google.colab.kernel.invokeFunction('convertToInteractive',\n",
              "                                                    [key], {});\n",
              "        if (!dataTable) return;\n",
              "\n",
              "        const docLinkHtml = 'Like what you see? Visit the ' +\n",
              "          '<a target=\"_blank\" href=https://colab.research.google.com/notebooks/data_table.ipynb>data table notebook</a>'\n",
              "          + ' to learn more about interactive tables.';\n",
              "        element.innerHTML = '';\n",
              "        dataTable['output_type'] = 'display_data';\n",
              "        await google.colab.output.renderOutput(dataTable, element);\n",
              "        const docLink = document.createElement('div');\n",
              "        docLink.innerHTML = docLinkHtml;\n",
              "        element.appendChild(docLink);\n",
              "      }\n",
              "    </script>\n",
              "  </div>\n",
              "\n",
              "\n",
              "<div id=\"df-e4772034-a1cc-4149-b0b3-2d030ad5a5f7\">\n",
              "  <button class=\"colab-df-quickchart\" onclick=\"quickchart('df-e4772034-a1cc-4149-b0b3-2d030ad5a5f7')\"\n",
              "            title=\"Suggest charts.\"\n",
              "            style=\"display:none;\">\n",
              "\n",
              "<svg xmlns=\"http://www.w3.org/2000/svg\" height=\"24px\"viewBox=\"0 0 24 24\"\n",
              "     width=\"24px\">\n",
              "    <g>\n",
              "        <path d=\"M19 3H5c-1.1 0-2 .9-2 2v14c0 1.1.9 2 2 2h14c1.1 0 2-.9 2-2V5c0-1.1-.9-2-2-2zM9 17H7v-7h2v7zm4 0h-2V7h2v10zm4 0h-2v-4h2v4z\"/>\n",
              "    </g>\n",
              "</svg>\n",
              "  </button>\n",
              "\n",
              "<style>\n",
              "  .colab-df-quickchart {\n",
              "      --bg-color: #E8F0FE;\n",
              "      --fill-color: #1967D2;\n",
              "      --hover-bg-color: #E2EBFA;\n",
              "      --hover-fill-color: #174EA6;\n",
              "      --disabled-fill-color: #AAA;\n",
              "      --disabled-bg-color: #DDD;\n",
              "  }\n",
              "\n",
              "  [theme=dark] .colab-df-quickchart {\n",
              "      --bg-color: #3B4455;\n",
              "      --fill-color: #D2E3FC;\n",
              "      --hover-bg-color: #434B5C;\n",
              "      --hover-fill-color: #FFFFFF;\n",
              "      --disabled-bg-color: #3B4455;\n",
              "      --disabled-fill-color: #666;\n",
              "  }\n",
              "\n",
              "  .colab-df-quickchart {\n",
              "    background-color: var(--bg-color);\n",
              "    border: none;\n",
              "    border-radius: 50%;\n",
              "    cursor: pointer;\n",
              "    display: none;\n",
              "    fill: var(--fill-color);\n",
              "    height: 32px;\n",
              "    padding: 0;\n",
              "    width: 32px;\n",
              "  }\n",
              "\n",
              "  .colab-df-quickchart:hover {\n",
              "    background-color: var(--hover-bg-color);\n",
              "    box-shadow: 0 1px 2px rgba(60, 64, 67, 0.3), 0 1px 3px 1px rgba(60, 64, 67, 0.15);\n",
              "    fill: var(--button-hover-fill-color);\n",
              "  }\n",
              "\n",
              "  .colab-df-quickchart-complete:disabled,\n",
              "  .colab-df-quickchart-complete:disabled:hover {\n",
              "    background-color: var(--disabled-bg-color);\n",
              "    fill: var(--disabled-fill-color);\n",
              "    box-shadow: none;\n",
              "  }\n",
              "\n",
              "  .colab-df-spinner {\n",
              "    border: 2px solid var(--fill-color);\n",
              "    border-color: transparent;\n",
              "    border-bottom-color: var(--fill-color);\n",
              "    animation:\n",
              "      spin 1s steps(1) infinite;\n",
              "  }\n",
              "\n",
              "  @keyframes spin {\n",
              "    0% {\n",
              "      border-color: transparent;\n",
              "      border-bottom-color: var(--fill-color);\n",
              "      border-left-color: var(--fill-color);\n",
              "    }\n",
              "    20% {\n",
              "      border-color: transparent;\n",
              "      border-left-color: var(--fill-color);\n",
              "      border-top-color: var(--fill-color);\n",
              "    }\n",
              "    30% {\n",
              "      border-color: transparent;\n",
              "      border-left-color: var(--fill-color);\n",
              "      border-top-color: var(--fill-color);\n",
              "      border-right-color: var(--fill-color);\n",
              "    }\n",
              "    40% {\n",
              "      border-color: transparent;\n",
              "      border-right-color: var(--fill-color);\n",
              "      border-top-color: var(--fill-color);\n",
              "    }\n",
              "    60% {\n",
              "      border-color: transparent;\n",
              "      border-right-color: var(--fill-color);\n",
              "    }\n",
              "    80% {\n",
              "      border-color: transparent;\n",
              "      border-right-color: var(--fill-color);\n",
              "      border-bottom-color: var(--fill-color);\n",
              "    }\n",
              "    90% {\n",
              "      border-color: transparent;\n",
              "      border-bottom-color: var(--fill-color);\n",
              "    }\n",
              "  }\n",
              "</style>\n",
              "\n",
              "  <script>\n",
              "    async function quickchart(key) {\n",
              "      const quickchartButtonEl =\n",
              "        document.querySelector('#' + key + ' button');\n",
              "      quickchartButtonEl.disabled = true;  // To prevent multiple clicks.\n",
              "      quickchartButtonEl.classList.add('colab-df-spinner');\n",
              "      try {\n",
              "        const charts = await google.colab.kernel.invokeFunction(\n",
              "            'suggestCharts', [key], {});\n",
              "      } catch (error) {\n",
              "        console.error('Error during call to suggestCharts:', error);\n",
              "      }\n",
              "      quickchartButtonEl.classList.remove('colab-df-spinner');\n",
              "      quickchartButtonEl.classList.add('colab-df-quickchart-complete');\n",
              "    }\n",
              "    (() => {\n",
              "      let quickchartButtonEl =\n",
              "        document.querySelector('#df-e4772034-a1cc-4149-b0b3-2d030ad5a5f7 button');\n",
              "      quickchartButtonEl.style.display =\n",
              "        google.colab.kernel.accessAllowed ? 'block' : 'none';\n",
              "    })();\n",
              "  </script>\n",
              "</div>\n",
              "    </div>\n",
              "  </div>\n"
            ]
          },
          "metadata": {},
          "execution_count": 29
        }
      ]
    },
    {
      "cell_type": "code",
      "source": [
        "df.drop(columns = ['RowNumber','CustomerId','Surname'],inplace=True)"
      ],
      "metadata": {
        "id": "8lO-OVJSuz7_"
      },
      "execution_count": null,
      "outputs": []
    },
    {
      "cell_type": "code",
      "source": [
        "df['Exited'].value_counts()"
      ],
      "metadata": {
        "colab": {
          "base_uri": "https://localhost:8080/"
        },
        "id": "T_6lj-DOqF2i",
        "outputId": "13ce3f28-17ca-403c-a753-e0eb792bac9f"
      },
      "execution_count": null,
      "outputs": [
        {
          "output_type": "execute_result",
          "data": {
            "text/plain": [
              "0    7963\n",
              "1    2037\n",
              "Name: Exited, dtype: int64"
            ]
          },
          "metadata": {},
          "execution_count": 31
        }
      ]
    },
    {
      "cell_type": "code",
      "source": [
        "df['Gender'].value_counts()"
      ],
      "metadata": {
        "colab": {
          "base_uri": "https://localhost:8080/"
        },
        "id": "KjaIx-SPqq2Q",
        "outputId": "4b7f22ad-f45a-4a77-a41a-f567d5a39c8b"
      },
      "execution_count": null,
      "outputs": [
        {
          "output_type": "execute_result",
          "data": {
            "text/plain": [
              "Male      5457\n",
              "Female    4543\n",
              "Name: Gender, dtype: int64"
            ]
          },
          "metadata": {},
          "execution_count": 32
        }
      ]
    },
    {
      "cell_type": "code",
      "source": [
        "df['Age'].value_counts()"
      ],
      "metadata": {
        "colab": {
          "base_uri": "https://localhost:8080/"
        },
        "id": "YawYqbBuqwGo",
        "outputId": "c2e6aab0-5677-4636-f298-81169b68fe1b"
      },
      "execution_count": null,
      "outputs": [
        {
          "output_type": "execute_result",
          "data": {
            "text/plain": [
              "37    478\n",
              "38    477\n",
              "35    474\n",
              "36    456\n",
              "34    447\n",
              "     ... \n",
              "92      2\n",
              "82      1\n",
              "88      1\n",
              "85      1\n",
              "83      1\n",
              "Name: Age, Length: 70, dtype: int64"
            ]
          },
          "metadata": {},
          "execution_count": 33
        }
      ]
    },
    {
      "cell_type": "code",
      "source": [
        "df['Geography'].value_counts()"
      ],
      "metadata": {
        "colab": {
          "base_uri": "https://localhost:8080/"
        },
        "id": "4cj1YXYZrMFb",
        "outputId": "0b875a83-3ed1-4209-b668-a825b09fb783"
      },
      "execution_count": null,
      "outputs": [
        {
          "output_type": "execute_result",
          "data": {
            "text/plain": [
              "France     5014\n",
              "Germany    2509\n",
              "Spain      2477\n",
              "Name: Geography, dtype: int64"
            ]
          },
          "metadata": {},
          "execution_count": 34
        }
      ]
    },
    {
      "cell_type": "code",
      "source": [
        "df = pd.get_dummies(df, columns=['Geography','Gender'], drop_first=True)"
      ],
      "metadata": {
        "id": "5lbzgRHfq3jR"
      },
      "execution_count": null,
      "outputs": []
    },
    {
      "cell_type": "code",
      "source": [
        "df.head()"
      ],
      "metadata": {
        "colab": {
          "base_uri": "https://localhost:8080/",
          "height": 206
        },
        "id": "jLhCBQ-prXD4",
        "outputId": "40b6aa56-6367-4b87-c356-a541e1357122"
      },
      "execution_count": null,
      "outputs": [
        {
          "output_type": "execute_result",
          "data": {
            "text/plain": [
              "   CreditScore  Age  Tenure    Balance  NumOfProducts  HasCrCard  \\\n",
              "0          619   42       2       0.00              1          1   \n",
              "1          608   41       1   83807.86              1          0   \n",
              "2          502   42       8  159660.80              3          1   \n",
              "3          699   39       1       0.00              2          0   \n",
              "4          850   43       2  125510.82              1          1   \n",
              "\n",
              "   IsActiveMember  EstimatedSalary  Exited  Geography_Germany  \\\n",
              "0               1        101348.88       1                  0   \n",
              "1               1        112542.58       0                  0   \n",
              "2               0        113931.57       1                  0   \n",
              "3               0         93826.63       0                  0   \n",
              "4               1         79084.10       0                  0   \n",
              "\n",
              "   Geography_Spain  Gender_Male  \n",
              "0                0            0  \n",
              "1                1            0  \n",
              "2                0            0  \n",
              "3                0            0  \n",
              "4                1            0  "
            ],
            "text/html": [
              "\n",
              "  <div id=\"df-f92ebd2a-9b71-4ff4-9ddc-d488f1a1d7e7\" class=\"colab-df-container\">\n",
              "    <div>\n",
              "<style scoped>\n",
              "    .dataframe tbody tr th:only-of-type {\n",
              "        vertical-align: middle;\n",
              "    }\n",
              "\n",
              "    .dataframe tbody tr th {\n",
              "        vertical-align: top;\n",
              "    }\n",
              "\n",
              "    .dataframe thead th {\n",
              "        text-align: right;\n",
              "    }\n",
              "</style>\n",
              "<table border=\"1\" class=\"dataframe\">\n",
              "  <thead>\n",
              "    <tr style=\"text-align: right;\">\n",
              "      <th></th>\n",
              "      <th>CreditScore</th>\n",
              "      <th>Age</th>\n",
              "      <th>Tenure</th>\n",
              "      <th>Balance</th>\n",
              "      <th>NumOfProducts</th>\n",
              "      <th>HasCrCard</th>\n",
              "      <th>IsActiveMember</th>\n",
              "      <th>EstimatedSalary</th>\n",
              "      <th>Exited</th>\n",
              "      <th>Geography_Germany</th>\n",
              "      <th>Geography_Spain</th>\n",
              "      <th>Gender_Male</th>\n",
              "    </tr>\n",
              "  </thead>\n",
              "  <tbody>\n",
              "    <tr>\n",
              "      <th>0</th>\n",
              "      <td>619</td>\n",
              "      <td>42</td>\n",
              "      <td>2</td>\n",
              "      <td>0.00</td>\n",
              "      <td>1</td>\n",
              "      <td>1</td>\n",
              "      <td>1</td>\n",
              "      <td>101348.88</td>\n",
              "      <td>1</td>\n",
              "      <td>0</td>\n",
              "      <td>0</td>\n",
              "      <td>0</td>\n",
              "    </tr>\n",
              "    <tr>\n",
              "      <th>1</th>\n",
              "      <td>608</td>\n",
              "      <td>41</td>\n",
              "      <td>1</td>\n",
              "      <td>83807.86</td>\n",
              "      <td>1</td>\n",
              "      <td>0</td>\n",
              "      <td>1</td>\n",
              "      <td>112542.58</td>\n",
              "      <td>0</td>\n",
              "      <td>0</td>\n",
              "      <td>1</td>\n",
              "      <td>0</td>\n",
              "    </tr>\n",
              "    <tr>\n",
              "      <th>2</th>\n",
              "      <td>502</td>\n",
              "      <td>42</td>\n",
              "      <td>8</td>\n",
              "      <td>159660.80</td>\n",
              "      <td>3</td>\n",
              "      <td>1</td>\n",
              "      <td>0</td>\n",
              "      <td>113931.57</td>\n",
              "      <td>1</td>\n",
              "      <td>0</td>\n",
              "      <td>0</td>\n",
              "      <td>0</td>\n",
              "    </tr>\n",
              "    <tr>\n",
              "      <th>3</th>\n",
              "      <td>699</td>\n",
              "      <td>39</td>\n",
              "      <td>1</td>\n",
              "      <td>0.00</td>\n",
              "      <td>2</td>\n",
              "      <td>0</td>\n",
              "      <td>0</td>\n",
              "      <td>93826.63</td>\n",
              "      <td>0</td>\n",
              "      <td>0</td>\n",
              "      <td>0</td>\n",
              "      <td>0</td>\n",
              "    </tr>\n",
              "    <tr>\n",
              "      <th>4</th>\n",
              "      <td>850</td>\n",
              "      <td>43</td>\n",
              "      <td>2</td>\n",
              "      <td>125510.82</td>\n",
              "      <td>1</td>\n",
              "      <td>1</td>\n",
              "      <td>1</td>\n",
              "      <td>79084.10</td>\n",
              "      <td>0</td>\n",
              "      <td>0</td>\n",
              "      <td>1</td>\n",
              "      <td>0</td>\n",
              "    </tr>\n",
              "  </tbody>\n",
              "</table>\n",
              "</div>\n",
              "    <div class=\"colab-df-buttons\">\n",
              "\n",
              "  <div class=\"colab-df-container\">\n",
              "    <button class=\"colab-df-convert\" onclick=\"convertToInteractive('df-f92ebd2a-9b71-4ff4-9ddc-d488f1a1d7e7')\"\n",
              "            title=\"Convert this dataframe to an interactive table.\"\n",
              "            style=\"display:none;\">\n",
              "\n",
              "  <svg xmlns=\"http://www.w3.org/2000/svg\" height=\"24px\" viewBox=\"0 -960 960 960\">\n",
              "    <path d=\"M120-120v-720h720v720H120Zm60-500h600v-160H180v160Zm220 220h160v-160H400v160Zm0 220h160v-160H400v160ZM180-400h160v-160H180v160Zm440 0h160v-160H620v160ZM180-180h160v-160H180v160Zm440 0h160v-160H620v160Z\"/>\n",
              "  </svg>\n",
              "    </button>\n",
              "\n",
              "  <style>\n",
              "    .colab-df-container {\n",
              "      display:flex;\n",
              "      gap: 12px;\n",
              "    }\n",
              "\n",
              "    .colab-df-convert {\n",
              "      background-color: #E8F0FE;\n",
              "      border: none;\n",
              "      border-radius: 50%;\n",
              "      cursor: pointer;\n",
              "      display: none;\n",
              "      fill: #1967D2;\n",
              "      height: 32px;\n",
              "      padding: 0 0 0 0;\n",
              "      width: 32px;\n",
              "    }\n",
              "\n",
              "    .colab-df-convert:hover {\n",
              "      background-color: #E2EBFA;\n",
              "      box-shadow: 0px 1px 2px rgba(60, 64, 67, 0.3), 0px 1px 3px 1px rgba(60, 64, 67, 0.15);\n",
              "      fill: #174EA6;\n",
              "    }\n",
              "\n",
              "    .colab-df-buttons div {\n",
              "      margin-bottom: 4px;\n",
              "    }\n",
              "\n",
              "    [theme=dark] .colab-df-convert {\n",
              "      background-color: #3B4455;\n",
              "      fill: #D2E3FC;\n",
              "    }\n",
              "\n",
              "    [theme=dark] .colab-df-convert:hover {\n",
              "      background-color: #434B5C;\n",
              "      box-shadow: 0px 1px 3px 1px rgba(0, 0, 0, 0.15);\n",
              "      filter: drop-shadow(0px 1px 2px rgba(0, 0, 0, 0.3));\n",
              "      fill: #FFFFFF;\n",
              "    }\n",
              "  </style>\n",
              "\n",
              "    <script>\n",
              "      const buttonEl =\n",
              "        document.querySelector('#df-f92ebd2a-9b71-4ff4-9ddc-d488f1a1d7e7 button.colab-df-convert');\n",
              "      buttonEl.style.display =\n",
              "        google.colab.kernel.accessAllowed ? 'block' : 'none';\n",
              "\n",
              "      async function convertToInteractive(key) {\n",
              "        const element = document.querySelector('#df-f92ebd2a-9b71-4ff4-9ddc-d488f1a1d7e7');\n",
              "        const dataTable =\n",
              "          await google.colab.kernel.invokeFunction('convertToInteractive',\n",
              "                                                    [key], {});\n",
              "        if (!dataTable) return;\n",
              "\n",
              "        const docLinkHtml = 'Like what you see? Visit the ' +\n",
              "          '<a target=\"_blank\" href=https://colab.research.google.com/notebooks/data_table.ipynb>data table notebook</a>'\n",
              "          + ' to learn more about interactive tables.';\n",
              "        element.innerHTML = '';\n",
              "        dataTable['output_type'] = 'display_data';\n",
              "        await google.colab.output.renderOutput(dataTable, element);\n",
              "        const docLink = document.createElement('div');\n",
              "        docLink.innerHTML = docLinkHtml;\n",
              "        element.appendChild(docLink);\n",
              "      }\n",
              "    </script>\n",
              "  </div>\n",
              "\n",
              "\n",
              "<div id=\"df-c7976570-195e-446d-b3eb-9e874b66597a\">\n",
              "  <button class=\"colab-df-quickchart\" onclick=\"quickchart('df-c7976570-195e-446d-b3eb-9e874b66597a')\"\n",
              "            title=\"Suggest charts.\"\n",
              "            style=\"display:none;\">\n",
              "\n",
              "<svg xmlns=\"http://www.w3.org/2000/svg\" height=\"24px\"viewBox=\"0 0 24 24\"\n",
              "     width=\"24px\">\n",
              "    <g>\n",
              "        <path d=\"M19 3H5c-1.1 0-2 .9-2 2v14c0 1.1.9 2 2 2h14c1.1 0 2-.9 2-2V5c0-1.1-.9-2-2-2zM9 17H7v-7h2v7zm4 0h-2V7h2v10zm4 0h-2v-4h2v4z\"/>\n",
              "    </g>\n",
              "</svg>\n",
              "  </button>\n",
              "\n",
              "<style>\n",
              "  .colab-df-quickchart {\n",
              "      --bg-color: #E8F0FE;\n",
              "      --fill-color: #1967D2;\n",
              "      --hover-bg-color: #E2EBFA;\n",
              "      --hover-fill-color: #174EA6;\n",
              "      --disabled-fill-color: #AAA;\n",
              "      --disabled-bg-color: #DDD;\n",
              "  }\n",
              "\n",
              "  [theme=dark] .colab-df-quickchart {\n",
              "      --bg-color: #3B4455;\n",
              "      --fill-color: #D2E3FC;\n",
              "      --hover-bg-color: #434B5C;\n",
              "      --hover-fill-color: #FFFFFF;\n",
              "      --disabled-bg-color: #3B4455;\n",
              "      --disabled-fill-color: #666;\n",
              "  }\n",
              "\n",
              "  .colab-df-quickchart {\n",
              "    background-color: var(--bg-color);\n",
              "    border: none;\n",
              "    border-radius: 50%;\n",
              "    cursor: pointer;\n",
              "    display: none;\n",
              "    fill: var(--fill-color);\n",
              "    height: 32px;\n",
              "    padding: 0;\n",
              "    width: 32px;\n",
              "  }\n",
              "\n",
              "  .colab-df-quickchart:hover {\n",
              "    background-color: var(--hover-bg-color);\n",
              "    box-shadow: 0 1px 2px rgba(60, 64, 67, 0.3), 0 1px 3px 1px rgba(60, 64, 67, 0.15);\n",
              "    fill: var(--button-hover-fill-color);\n",
              "  }\n",
              "\n",
              "  .colab-df-quickchart-complete:disabled,\n",
              "  .colab-df-quickchart-complete:disabled:hover {\n",
              "    background-color: var(--disabled-bg-color);\n",
              "    fill: var(--disabled-fill-color);\n",
              "    box-shadow: none;\n",
              "  }\n",
              "\n",
              "  .colab-df-spinner {\n",
              "    border: 2px solid var(--fill-color);\n",
              "    border-color: transparent;\n",
              "    border-bottom-color: var(--fill-color);\n",
              "    animation:\n",
              "      spin 1s steps(1) infinite;\n",
              "  }\n",
              "\n",
              "  @keyframes spin {\n",
              "    0% {\n",
              "      border-color: transparent;\n",
              "      border-bottom-color: var(--fill-color);\n",
              "      border-left-color: var(--fill-color);\n",
              "    }\n",
              "    20% {\n",
              "      border-color: transparent;\n",
              "      border-left-color: var(--fill-color);\n",
              "      border-top-color: var(--fill-color);\n",
              "    }\n",
              "    30% {\n",
              "      border-color: transparent;\n",
              "      border-left-color: var(--fill-color);\n",
              "      border-top-color: var(--fill-color);\n",
              "      border-right-color: var(--fill-color);\n",
              "    }\n",
              "    40% {\n",
              "      border-color: transparent;\n",
              "      border-right-color: var(--fill-color);\n",
              "      border-top-color: var(--fill-color);\n",
              "    }\n",
              "    60% {\n",
              "      border-color: transparent;\n",
              "      border-right-color: var(--fill-color);\n",
              "    }\n",
              "    80% {\n",
              "      border-color: transparent;\n",
              "      border-right-color: var(--fill-color);\n",
              "      border-bottom-color: var(--fill-color);\n",
              "    }\n",
              "    90% {\n",
              "      border-color: transparent;\n",
              "      border-bottom-color: var(--fill-color);\n",
              "    }\n",
              "  }\n",
              "</style>\n",
              "\n",
              "  <script>\n",
              "    async function quickchart(key) {\n",
              "      const quickchartButtonEl =\n",
              "        document.querySelector('#' + key + ' button');\n",
              "      quickchartButtonEl.disabled = true;  // To prevent multiple clicks.\n",
              "      quickchartButtonEl.classList.add('colab-df-spinner');\n",
              "      try {\n",
              "        const charts = await google.colab.kernel.invokeFunction(\n",
              "            'suggestCharts', [key], {});\n",
              "      } catch (error) {\n",
              "        console.error('Error during call to suggestCharts:', error);\n",
              "      }\n",
              "      quickchartButtonEl.classList.remove('colab-df-spinner');\n",
              "      quickchartButtonEl.classList.add('colab-df-quickchart-complete');\n",
              "    }\n",
              "    (() => {\n",
              "      let quickchartButtonEl =\n",
              "        document.querySelector('#df-c7976570-195e-446d-b3eb-9e874b66597a button');\n",
              "      quickchartButtonEl.style.display =\n",
              "        google.colab.kernel.accessAllowed ? 'block' : 'none';\n",
              "    })();\n",
              "  </script>\n",
              "</div>\n",
              "    </div>\n",
              "  </div>\n"
            ]
          },
          "metadata": {},
          "execution_count": 36
        }
      ]
    },
    {
      "cell_type": "code",
      "source": [
        "X = df.drop(columns=['Exited'])\n",
        "y = df['Exited'].values"
      ],
      "metadata": {
        "id": "sZ5ZsJS8rYmo"
      },
      "execution_count": null,
      "outputs": []
    },
    {
      "cell_type": "code",
      "source": [
        "from sklearn.model_selection import train_test_split\n",
        "X_train,X_test,y_train,y_test = train_test_split(X,y,test_size=0.2,random_state=1)"
      ],
      "metadata": {
        "id": "PfQjiL49sOBg"
      },
      "execution_count": null,
      "outputs": []
    },
    {
      "cell_type": "code",
      "source": [
        "from sklearn.preprocessing import StandardScaler   #This ensures that both the training and test data are scaled in the same way to maintain consistency.\n",
        "scaler = StandardScaler()"
      ],
      "metadata": {
        "id": "Q6ZAXjgXsWMA"
      },
      "execution_count": null,
      "outputs": []
    },
    {
      "cell_type": "code",
      "source": [
        "X_train_trf = scaler.fit_transform(X_train)\n",
        "X_test_trf = scaler.transform(X_test)"
      ],
      "metadata": {
        "id": "W9KpI1J5s8ep"
      },
      "execution_count": null,
      "outputs": []
    },
    {
      "cell_type": "code",
      "source": [
        "df.info()"
      ],
      "metadata": {
        "colab": {
          "base_uri": "https://localhost:8080/"
        },
        "id": "gbt6HEL2tXkH",
        "outputId": "e864700f-5ef6-4f8f-8bcf-92788ff32671"
      },
      "execution_count": null,
      "outputs": [
        {
          "output_type": "stream",
          "name": "stdout",
          "text": [
            "<class 'pandas.core.frame.DataFrame'>\n",
            "RangeIndex: 10000 entries, 0 to 9999\n",
            "Data columns (total 12 columns):\n",
            " #   Column             Non-Null Count  Dtype  \n",
            "---  ------             --------------  -----  \n",
            " 0   CreditScore        10000 non-null  int64  \n",
            " 1   Age                10000 non-null  int64  \n",
            " 2   Tenure             10000 non-null  int64  \n",
            " 3   Balance            10000 non-null  float64\n",
            " 4   NumOfProducts      10000 non-null  int64  \n",
            " 5   HasCrCard          10000 non-null  int64  \n",
            " 6   IsActiveMember     10000 non-null  int64  \n",
            " 7   EstimatedSalary    10000 non-null  float64\n",
            " 8   Exited             10000 non-null  int64  \n",
            " 9   Geography_Germany  10000 non-null  uint8  \n",
            " 10  Geography_Spain    10000 non-null  uint8  \n",
            " 11  Gender_Male        10000 non-null  uint8  \n",
            "dtypes: float64(2), int64(7), uint8(3)\n",
            "memory usage: 732.5 KB\n"
          ]
        }
      ]
    },
    {
      "cell_type": "code",
      "source": [
        "import tensorflow\n",
        "from tensorflow import keras\n",
        "from tensorflow.keras import Sequential\n",
        "from tensorflow.keras.layers import Dense"
      ],
      "metadata": {
        "id": "9BeySnAluuZv"
      },
      "execution_count": null,
      "outputs": []
    },
    {
      "cell_type": "code",
      "source": [
        "X.shape"
      ],
      "metadata": {
        "colab": {
          "base_uri": "https://localhost:8080/"
        },
        "id": "aSeuWLDfvOPH",
        "outputId": "f080d22f-4dd2-48a7-8ac0-ebce719c8375"
      },
      "execution_count": null,
      "outputs": [
        {
          "output_type": "execute_result",
          "data": {
            "text/plain": [
              "(10000, 11)"
            ]
          },
          "metadata": {},
          "execution_count": 46
        }
      ]
    },
    {
      "cell_type": "markdown",
      "source": [
        "Now lets make our neural network architecture"
      ],
      "metadata": {
        "id": "SO32IWI6vrzI"
      }
    },
    {
      "cell_type": "code",
      "source": [
        "model = Sequential()\n",
        "\n",
        "model.add(Dense(3,activation='sigmoid',input_dim=11))  #input layer has 11 inputs and 3 hidden layers(we can alter the number of hidden layers to play with accuracy)\n",
        "model.add(Dense(1,activation='sigmoid'))         #output layer"
      ],
      "metadata": {
        "id": "efhpNtBEv1je"
      },
      "execution_count": null,
      "outputs": []
    },
    {
      "cell_type": "code",
      "source": [
        "model.summary()           # 36 = 11*3+3"
      ],
      "metadata": {
        "colab": {
          "base_uri": "https://localhost:8080/"
        },
        "id": "4rnJ3-cB0VY3",
        "outputId": "0eb73f5e-21b3-42ad-e1e4-2b298b4cccd3"
      },
      "execution_count": null,
      "outputs": [
        {
          "output_type": "stream",
          "name": "stdout",
          "text": [
            "Model: \"sequential\"\n",
            "_________________________________________________________________\n",
            " Layer (type)                Output Shape              Param #   \n",
            "=================================================================\n",
            " dense (Dense)               (None, 3)                 36        \n",
            "                                                                 \n",
            " dense_1 (Dense)             (None, 1)                 4         \n",
            "                                                                 \n",
            "=================================================================\n",
            "Total params: 40 (160.00 Byte)\n",
            "Trainable params: 40 (160.00 Byte)\n",
            "Non-trainable params: 0 (0.00 Byte)\n",
            "_________________________________________________________________\n"
          ]
        }
      ]
    },
    {
      "cell_type": "markdown",
      "source": [
        "now we train the model"
      ],
      "metadata": {
        "id": "Mo_2PB0Y0liu"
      }
    },
    {
      "cell_type": "code",
      "source": [
        "model.compile(optimizer='Adam', loss='binary_crossentropy', metrics=['accuracy'])"
      ],
      "metadata": {
        "id": "2idRpf0N0YvX"
      },
      "execution_count": null,
      "outputs": []
    },
    {
      "cell_type": "code",
      "source": [
        "history = model.fit(X_train,y_train,batch_size=50,epochs=100,verbose=1,validation_split=0.2)       #we strore it in history to use it in future for plotting comparison graphs\n",
        "# validation split further divides the x_train into more test sets and evaluates"
      ],
      "metadata": {
        "colab": {
          "base_uri": "https://localhost:8080/"
        },
        "id": "lP0FAX-s01D1",
        "outputId": "e1812e8e-f0e9-4a7f-9d80-7d407c60dd67"
      },
      "execution_count": null,
      "outputs": [
        {
          "output_type": "stream",
          "name": "stdout",
          "text": [
            "Epoch 1/100\n",
            "128/128 [==============================] - 2s 4ms/step - loss: 0.6081 - accuracy: 0.7408 - val_loss: 0.5761 - val_accuracy: 0.7519\n",
            "Epoch 2/100\n",
            "128/128 [==============================] - 0s 2ms/step - loss: 0.5663 - accuracy: 0.7431 - val_loss: 0.5461 - val_accuracy: 0.7519\n",
            "Epoch 3/100\n",
            "128/128 [==============================] - 0s 3ms/step - loss: 0.5424 - accuracy: 0.7431 - val_loss: 0.5284 - val_accuracy: 0.7519\n",
            "Epoch 4/100\n",
            "128/128 [==============================] - 0s 4ms/step - loss: 0.5282 - accuracy: 0.7431 - val_loss: 0.5181 - val_accuracy: 0.7519\n",
            "Epoch 5/100\n",
            "128/128 [==============================] - 1s 4ms/step - loss: 0.5195 - accuracy: 0.7431 - val_loss: 0.5118 - val_accuracy: 0.7519\n",
            "Epoch 6/100\n",
            "128/128 [==============================] - 1s 4ms/step - loss: 0.5139 - accuracy: 0.7480 - val_loss: 0.5077 - val_accuracy: 0.7975\n",
            "Epoch 7/100\n",
            "128/128 [==============================] - 1s 4ms/step - loss: 0.5101 - accuracy: 0.7972 - val_loss: 0.5049 - val_accuracy: 0.7975\n",
            "Epoch 8/100\n",
            "128/128 [==============================] - 0s 4ms/step - loss: 0.5074 - accuracy: 0.7972 - val_loss: 0.5028 - val_accuracy: 0.7975\n",
            "Epoch 9/100\n",
            "128/128 [==============================] - 1s 4ms/step - loss: 0.5054 - accuracy: 0.7972 - val_loss: 0.5013 - val_accuracy: 0.7975\n",
            "Epoch 10/100\n",
            "128/128 [==============================] - 0s 3ms/step - loss: 0.5037 - accuracy: 0.7972 - val_loss: 0.5001 - val_accuracy: 0.7975\n",
            "Epoch 11/100\n",
            "128/128 [==============================] - 0s 3ms/step - loss: 0.5024 - accuracy: 0.7972 - val_loss: 0.4991 - val_accuracy: 0.7975\n",
            "Epoch 12/100\n",
            "128/128 [==============================] - 0s 3ms/step - loss: 0.5013 - accuracy: 0.7972 - val_loss: 0.4983 - val_accuracy: 0.7975\n",
            "Epoch 13/100\n",
            "128/128 [==============================] - 0s 3ms/step - loss: 0.5004 - accuracy: 0.7972 - val_loss: 0.4976 - val_accuracy: 0.7975\n",
            "Epoch 14/100\n",
            "128/128 [==============================] - 0s 2ms/step - loss: 0.4996 - accuracy: 0.7972 - val_loss: 0.4971 - val_accuracy: 0.7975\n",
            "Epoch 15/100\n",
            "128/128 [==============================] - 0s 2ms/step - loss: 0.4990 - accuracy: 0.7972 - val_loss: 0.4967 - val_accuracy: 0.7975\n",
            "Epoch 16/100\n",
            "128/128 [==============================] - 0s 2ms/step - loss: 0.4986 - accuracy: 0.7972 - val_loss: 0.4964 - val_accuracy: 0.7975\n",
            "Epoch 17/100\n",
            "128/128 [==============================] - 0s 2ms/step - loss: 0.4981 - accuracy: 0.7972 - val_loss: 0.4962 - val_accuracy: 0.7975\n",
            "Epoch 18/100\n",
            "128/128 [==============================] - 0s 3ms/step - loss: 0.4978 - accuracy: 0.7972 - val_loss: 0.4960 - val_accuracy: 0.7975\n",
            "Epoch 19/100\n",
            "128/128 [==============================] - 0s 2ms/step - loss: 0.4976 - accuracy: 0.7972 - val_loss: 0.4958 - val_accuracy: 0.7975\n",
            "Epoch 20/100\n",
            "128/128 [==============================] - 0s 2ms/step - loss: 0.4973 - accuracy: 0.7972 - val_loss: 0.4957 - val_accuracy: 0.7975\n",
            "Epoch 21/100\n",
            "128/128 [==============================] - 0s 2ms/step - loss: 0.4972 - accuracy: 0.7972 - val_loss: 0.4956 - val_accuracy: 0.7975\n",
            "Epoch 22/100\n",
            "128/128 [==============================] - 0s 2ms/step - loss: 0.4971 - accuracy: 0.7972 - val_loss: 0.4956 - val_accuracy: 0.7975\n",
            "Epoch 23/100\n",
            "128/128 [==============================] - 0s 2ms/step - loss: 0.4970 - accuracy: 0.7972 - val_loss: 0.4955 - val_accuracy: 0.7975\n",
            "Epoch 24/100\n",
            "128/128 [==============================] - 0s 3ms/step - loss: 0.4969 - accuracy: 0.7972 - val_loss: 0.4955 - val_accuracy: 0.7975\n",
            "Epoch 25/100\n",
            "128/128 [==============================] - 0s 3ms/step - loss: 0.4968 - accuracy: 0.7972 - val_loss: 0.4955 - val_accuracy: 0.7975\n",
            "Epoch 26/100\n",
            "128/128 [==============================] - 0s 3ms/step - loss: 0.4968 - accuracy: 0.7972 - val_loss: 0.4955 - val_accuracy: 0.7975\n",
            "Epoch 27/100\n",
            "128/128 [==============================] - 0s 2ms/step - loss: 0.4967 - accuracy: 0.7972 - val_loss: 0.4955 - val_accuracy: 0.7975\n",
            "Epoch 28/100\n",
            "128/128 [==============================] - 0s 2ms/step - loss: 0.4967 - accuracy: 0.7972 - val_loss: 0.4955 - val_accuracy: 0.7975\n",
            "Epoch 29/100\n",
            "128/128 [==============================] - 0s 3ms/step - loss: 0.4967 - accuracy: 0.7972 - val_loss: 0.4955 - val_accuracy: 0.7975\n",
            "Epoch 30/100\n",
            "128/128 [==============================] - 0s 2ms/step - loss: 0.4967 - accuracy: 0.7972 - val_loss: 0.4955 - val_accuracy: 0.7975\n",
            "Epoch 31/100\n",
            "128/128 [==============================] - 0s 2ms/step - loss: 0.4966 - accuracy: 0.7972 - val_loss: 0.4955 - val_accuracy: 0.7975\n",
            "Epoch 32/100\n",
            "128/128 [==============================] - 0s 2ms/step - loss: 0.4966 - accuracy: 0.7972 - val_loss: 0.4955 - val_accuracy: 0.7975\n",
            "Epoch 33/100\n",
            "128/128 [==============================] - 0s 2ms/step - loss: 0.4966 - accuracy: 0.7972 - val_loss: 0.4955 - val_accuracy: 0.7975\n",
            "Epoch 34/100\n",
            "128/128 [==============================] - 0s 2ms/step - loss: 0.4966 - accuracy: 0.7972 - val_loss: 0.4955 - val_accuracy: 0.7975\n",
            "Epoch 35/100\n",
            "128/128 [==============================] - 0s 2ms/step - loss: 0.4966 - accuracy: 0.7972 - val_loss: 0.4956 - val_accuracy: 0.7975\n",
            "Epoch 36/100\n",
            "128/128 [==============================] - 0s 2ms/step - loss: 0.4966 - accuracy: 0.7972 - val_loss: 0.4956 - val_accuracy: 0.7975\n",
            "Epoch 37/100\n",
            "128/128 [==============================] - 0s 2ms/step - loss: 0.4966 - accuracy: 0.7972 - val_loss: 0.4956 - val_accuracy: 0.7975\n",
            "Epoch 38/100\n",
            "128/128 [==============================] - 0s 2ms/step - loss: 0.4966 - accuracy: 0.7972 - val_loss: 0.4956 - val_accuracy: 0.7975\n",
            "Epoch 39/100\n",
            "128/128 [==============================] - 0s 2ms/step - loss: 0.4966 - accuracy: 0.7972 - val_loss: 0.4956 - val_accuracy: 0.7975\n",
            "Epoch 40/100\n",
            "128/128 [==============================] - 0s 2ms/step - loss: 0.4966 - accuracy: 0.7972 - val_loss: 0.4956 - val_accuracy: 0.7975\n",
            "Epoch 41/100\n",
            "128/128 [==============================] - 0s 2ms/step - loss: 0.4966 - accuracy: 0.7972 - val_loss: 0.4956 - val_accuracy: 0.7975\n",
            "Epoch 42/100\n",
            "128/128 [==============================] - 0s 3ms/step - loss: 0.4966 - accuracy: 0.7972 - val_loss: 0.4956 - val_accuracy: 0.7975\n",
            "Epoch 43/100\n",
            "128/128 [==============================] - 0s 2ms/step - loss: 0.4967 - accuracy: 0.7972 - val_loss: 0.4956 - val_accuracy: 0.7975\n",
            "Epoch 44/100\n",
            "128/128 [==============================] - 1s 4ms/step - loss: 0.4966 - accuracy: 0.7972 - val_loss: 0.4956 - val_accuracy: 0.7975\n",
            "Epoch 45/100\n",
            "128/128 [==============================] - 0s 3ms/step - loss: 0.4966 - accuracy: 0.7972 - val_loss: 0.4956 - val_accuracy: 0.7975\n",
            "Epoch 46/100\n",
            "128/128 [==============================] - 1s 4ms/step - loss: 0.4966 - accuracy: 0.7972 - val_loss: 0.4956 - val_accuracy: 0.7975\n",
            "Epoch 47/100\n",
            "128/128 [==============================] - 1s 4ms/step - loss: 0.4966 - accuracy: 0.7972 - val_loss: 0.4956 - val_accuracy: 0.7975\n",
            "Epoch 48/100\n",
            "128/128 [==============================] - 0s 4ms/step - loss: 0.4966 - accuracy: 0.7972 - val_loss: 0.4956 - val_accuracy: 0.7975\n",
            "Epoch 49/100\n",
            "128/128 [==============================] - 0s 3ms/step - loss: 0.4966 - accuracy: 0.7972 - val_loss: 0.4956 - val_accuracy: 0.7975\n",
            "Epoch 50/100\n",
            "128/128 [==============================] - 0s 4ms/step - loss: 0.4966 - accuracy: 0.7972 - val_loss: 0.4956 - val_accuracy: 0.7975\n",
            "Epoch 51/100\n",
            "128/128 [==============================] - 1s 4ms/step - loss: 0.4967 - accuracy: 0.7972 - val_loss: 0.4955 - val_accuracy: 0.7975\n",
            "Epoch 52/100\n",
            "128/128 [==============================] - 0s 3ms/step - loss: 0.4966 - accuracy: 0.7972 - val_loss: 0.4955 - val_accuracy: 0.7975\n",
            "Epoch 53/100\n",
            "128/128 [==============================] - 0s 2ms/step - loss: 0.4966 - accuracy: 0.7972 - val_loss: 0.4955 - val_accuracy: 0.7975\n",
            "Epoch 54/100\n",
            "128/128 [==============================] - 0s 2ms/step - loss: 0.4966 - accuracy: 0.7972 - val_loss: 0.4955 - val_accuracy: 0.7975\n",
            "Epoch 55/100\n",
            "128/128 [==============================] - 0s 2ms/step - loss: 0.4966 - accuracy: 0.7972 - val_loss: 0.4955 - val_accuracy: 0.7975\n",
            "Epoch 56/100\n",
            "128/128 [==============================] - 0s 2ms/step - loss: 0.4966 - accuracy: 0.7972 - val_loss: 0.4955 - val_accuracy: 0.7975\n",
            "Epoch 57/100\n",
            "128/128 [==============================] - 0s 2ms/step - loss: 0.4966 - accuracy: 0.7972 - val_loss: 0.4955 - val_accuracy: 0.7975\n",
            "Epoch 58/100\n",
            "128/128 [==============================] - 0s 2ms/step - loss: 0.4966 - accuracy: 0.7972 - val_loss: 0.4955 - val_accuracy: 0.7975\n",
            "Epoch 59/100\n",
            "128/128 [==============================] - 0s 2ms/step - loss: 0.4967 - accuracy: 0.7972 - val_loss: 0.4955 - val_accuracy: 0.7975\n",
            "Epoch 60/100\n",
            "128/128 [==============================] - 0s 3ms/step - loss: 0.4966 - accuracy: 0.7972 - val_loss: 0.4955 - val_accuracy: 0.7975\n",
            "Epoch 61/100\n",
            "128/128 [==============================] - 0s 2ms/step - loss: 0.4966 - accuracy: 0.7972 - val_loss: 0.4955 - val_accuracy: 0.7975\n",
            "Epoch 62/100\n",
            "128/128 [==============================] - 0s 3ms/step - loss: 0.4966 - accuracy: 0.7972 - val_loss: 0.4955 - val_accuracy: 0.7975\n",
            "Epoch 63/100\n",
            "128/128 [==============================] - 0s 2ms/step - loss: 0.4966 - accuracy: 0.7972 - val_loss: 0.4955 - val_accuracy: 0.7975\n",
            "Epoch 64/100\n",
            "128/128 [==============================] - 0s 3ms/step - loss: 0.4966 - accuracy: 0.7972 - val_loss: 0.4956 - val_accuracy: 0.7975\n",
            "Epoch 65/100\n",
            "128/128 [==============================] - 0s 2ms/step - loss: 0.4966 - accuracy: 0.7972 - val_loss: 0.4955 - val_accuracy: 0.7975\n",
            "Epoch 66/100\n",
            "128/128 [==============================] - 0s 2ms/step - loss: 0.4966 - accuracy: 0.7972 - val_loss: 0.4955 - val_accuracy: 0.7975\n",
            "Epoch 67/100\n",
            "128/128 [==============================] - 0s 2ms/step - loss: 0.4966 - accuracy: 0.7972 - val_loss: 0.4955 - val_accuracy: 0.7975\n",
            "Epoch 68/100\n",
            "128/128 [==============================] - 0s 2ms/step - loss: 0.4966 - accuracy: 0.7972 - val_loss: 0.4956 - val_accuracy: 0.7975\n",
            "Epoch 69/100\n",
            "128/128 [==============================] - 0s 2ms/step - loss: 0.4966 - accuracy: 0.7972 - val_loss: 0.4955 - val_accuracy: 0.7975\n",
            "Epoch 70/100\n",
            "128/128 [==============================] - 0s 2ms/step - loss: 0.4966 - accuracy: 0.7972 - val_loss: 0.4956 - val_accuracy: 0.7975\n",
            "Epoch 71/100\n",
            "128/128 [==============================] - 0s 2ms/step - loss: 0.4966 - accuracy: 0.7972 - val_loss: 0.4955 - val_accuracy: 0.7975\n",
            "Epoch 72/100\n",
            "128/128 [==============================] - 0s 2ms/step - loss: 0.4966 - accuracy: 0.7972 - val_loss: 0.4956 - val_accuracy: 0.7975\n",
            "Epoch 73/100\n",
            "128/128 [==============================] - 0s 2ms/step - loss: 0.4966 - accuracy: 0.7972 - val_loss: 0.4956 - val_accuracy: 0.7975\n",
            "Epoch 74/100\n",
            "128/128 [==============================] - 0s 2ms/step - loss: 0.4966 - accuracy: 0.7972 - val_loss: 0.4956 - val_accuracy: 0.7975\n",
            "Epoch 75/100\n",
            "128/128 [==============================] - 1s 6ms/step - loss: 0.4966 - accuracy: 0.7972 - val_loss: 0.4956 - val_accuracy: 0.7975\n",
            "Epoch 76/100\n",
            "128/128 [==============================] - 0s 2ms/step - loss: 0.4966 - accuracy: 0.7972 - val_loss: 0.4956 - val_accuracy: 0.7975\n",
            "Epoch 77/100\n",
            "128/128 [==============================] - 0s 2ms/step - loss: 0.4966 - accuracy: 0.7972 - val_loss: 0.4956 - val_accuracy: 0.7975\n",
            "Epoch 78/100\n",
            "128/128 [==============================] - 0s 2ms/step - loss: 0.4966 - accuracy: 0.7972 - val_loss: 0.4956 - val_accuracy: 0.7975\n",
            "Epoch 79/100\n",
            "128/128 [==============================] - 0s 2ms/step - loss: 0.4966 - accuracy: 0.7972 - val_loss: 0.4955 - val_accuracy: 0.7975\n",
            "Epoch 80/100\n",
            "128/128 [==============================] - 0s 2ms/step - loss: 0.4966 - accuracy: 0.7972 - val_loss: 0.4956 - val_accuracy: 0.7975\n",
            "Epoch 81/100\n",
            "128/128 [==============================] - 0s 2ms/step - loss: 0.4966 - accuracy: 0.7972 - val_loss: 0.4956 - val_accuracy: 0.7975\n",
            "Epoch 82/100\n",
            "128/128 [==============================] - 0s 2ms/step - loss: 0.4967 - accuracy: 0.7972 - val_loss: 0.4956 - val_accuracy: 0.7975\n",
            "Epoch 83/100\n",
            "128/128 [==============================] - 1s 4ms/step - loss: 0.4966 - accuracy: 0.7972 - val_loss: 0.4956 - val_accuracy: 0.7975\n",
            "Epoch 84/100\n",
            "128/128 [==============================] - 0s 4ms/step - loss: 0.4966 - accuracy: 0.7972 - val_loss: 0.4956 - val_accuracy: 0.7975\n",
            "Epoch 85/100\n",
            "128/128 [==============================] - 1s 5ms/step - loss: 0.4967 - accuracy: 0.7972 - val_loss: 0.4956 - val_accuracy: 0.7975\n",
            "Epoch 86/100\n",
            "128/128 [==============================] - 1s 4ms/step - loss: 0.4966 - accuracy: 0.7972 - val_loss: 0.4956 - val_accuracy: 0.7975\n",
            "Epoch 87/100\n",
            "128/128 [==============================] - 0s 4ms/step - loss: 0.4975 - accuracy: 0.7972 - val_loss: 0.4977 - val_accuracy: 0.7975\n",
            "Epoch 88/100\n",
            "128/128 [==============================] - 0s 3ms/step - loss: 0.4976 - accuracy: 0.7972 - val_loss: 0.4976 - val_accuracy: 0.7975\n",
            "Epoch 89/100\n",
            "128/128 [==============================] - 0s 3ms/step - loss: 0.4975 - accuracy: 0.7972 - val_loss: 0.4974 - val_accuracy: 0.7975\n",
            "Epoch 90/100\n",
            "128/128 [==============================] - 1s 4ms/step - loss: 0.4973 - accuracy: 0.7972 - val_loss: 0.4971 - val_accuracy: 0.7975\n",
            "Epoch 91/100\n",
            "128/128 [==============================] - 0s 3ms/step - loss: 0.4973 - accuracy: 0.7972 - val_loss: 0.4971 - val_accuracy: 0.7975\n",
            "Epoch 92/100\n",
            "128/128 [==============================] - 0s 3ms/step - loss: 0.4972 - accuracy: 0.7972 - val_loss: 0.4970 - val_accuracy: 0.7975\n",
            "Epoch 93/100\n",
            "128/128 [==============================] - 0s 2ms/step - loss: 0.4972 - accuracy: 0.7972 - val_loss: 0.4970 - val_accuracy: 0.7975\n",
            "Epoch 94/100\n",
            "128/128 [==============================] - 0s 3ms/step - loss: 0.4972 - accuracy: 0.7972 - val_loss: 0.4969 - val_accuracy: 0.7975\n",
            "Epoch 95/100\n",
            "128/128 [==============================] - 0s 3ms/step - loss: 0.4972 - accuracy: 0.7972 - val_loss: 0.4969 - val_accuracy: 0.7975\n",
            "Epoch 96/100\n",
            "128/128 [==============================] - 0s 3ms/step - loss: 0.4971 - accuracy: 0.7972 - val_loss: 0.4972 - val_accuracy: 0.7975\n",
            "Epoch 97/100\n",
            "128/128 [==============================] - 0s 2ms/step - loss: 0.4971 - accuracy: 0.7972 - val_loss: 0.4971 - val_accuracy: 0.7975\n",
            "Epoch 98/100\n",
            "128/128 [==============================] - 0s 3ms/step - loss: 0.4971 - accuracy: 0.7972 - val_loss: 0.4971 - val_accuracy: 0.7975\n",
            "Epoch 99/100\n",
            "128/128 [==============================] - 0s 2ms/step - loss: 0.4971 - accuracy: 0.7972 - val_loss: 0.4970 - val_accuracy: 0.7975\n",
            "Epoch 100/100\n",
            "128/128 [==============================] - 0s 2ms/step - loss: 0.4971 - accuracy: 0.7972 - val_loss: 0.4970 - val_accuracy: 0.7975\n"
          ]
        }
      ]
    },
    {
      "cell_type": "code",
      "source": [
        "y_pred = model.predict(X_test)"
      ],
      "metadata": {
        "colab": {
          "base_uri": "https://localhost:8080/"
        },
        "id": "gewoTVK11ORd",
        "outputId": "5834fd1b-c5b1-459e-f9de-099d733725a4"
      },
      "execution_count": null,
      "outputs": [
        {
          "output_type": "stream",
          "name": "stdout",
          "text": [
            "63/63 [==============================] - 0s 3ms/step\n"
          ]
        }
      ]
    },
    {
      "cell_type": "code",
      "source": [
        "y_pred"
      ],
      "metadata": {
        "colab": {
          "base_uri": "https://localhost:8080/"
        },
        "id": "TOA3dkuX1pb1",
        "outputId": "a444db44-4a0e-472f-c4a2-ebba8ffb3755"
      },
      "execution_count": null,
      "outputs": [
        {
          "output_type": "execute_result",
          "data": {
            "text/plain": [
              "array([[0.13888907],\n",
              "       [0.20322892],\n",
              "       [0.13888907],\n",
              "       ...,\n",
              "       [0.13888907],\n",
              "       [0.24614568],\n",
              "       [0.20322892]], dtype=float32)"
            ]
          },
          "metadata": {},
          "execution_count": 52
        }
      ]
    },
    {
      "cell_type": "code",
      "source": [
        "y_pred = y_pred.argmax(axis=-1)"
      ],
      "metadata": {
        "id": "IcEksag-10p1"
      },
      "execution_count": null,
      "outputs": []
    },
    {
      "cell_type": "code",
      "source": [
        "from sklearn.metrics import accuracy_score\n",
        "accuracy_score(y_test,y_pred)"
      ],
      "metadata": {
        "colab": {
          "base_uri": "https://localhost:8080/"
        },
        "id": "JDegG0uo1rw0",
        "outputId": "a75bd4d1-5fe2-4388-8a53-d8e59d2cac64"
      },
      "execution_count": null,
      "outputs": [
        {
          "output_type": "execute_result",
          "data": {
            "text/plain": [
              "0.7925"
            ]
          },
          "metadata": {},
          "execution_count": 55
        }
      ]
    },
    {
      "cell_type": "code",
      "source": [
        "import matplotlib.pyplot as plt\n",
        "\n",
        "plt.plot(history.history['loss'])\n",
        "plt.plot(history.history['val_loss'])"
      ],
      "metadata": {
        "colab": {
          "base_uri": "https://localhost:8080/",
          "height": 447
        },
        "id": "RxkOFK_R1wTl",
        "outputId": "cd3c76c2-518b-421f-81d0-501dd113e270"
      },
      "execution_count": null,
      "outputs": [
        {
          "output_type": "execute_result",
          "data": {
            "text/plain": [
              "[<matplotlib.lines.Line2D at 0x783b35c54ac0>]"
            ]
          },
          "metadata": {},
          "execution_count": 56
        },
        {
          "output_type": "display_data",
          "data": {
            "text/plain": [
              "<Figure size 640x480 with 1 Axes>"
            ],
            "image/png": "[encoded data removed]"
          },
          "metadata": {}
        }
      ]
    },
    {
      "cell_type": "code",
      "source": [
        "plt.plot(history.history['accuracy'])\n",
        "plt.plot(history.history['val_accuracy'])"
      ],
      "metadata": {
        "colab": {
          "base_uri": "https://localhost:8080/",
          "height": 450
        },
        "id": "LMQDTSCM18F1",
        "outputId": "77fb1407-22ce-4c1e-c123-bfb6aa85bff3"
      },
      "execution_count": null,
      "outputs": [
        {
          "output_type": "execute_result",
          "data": {
            "text/plain": [
              "[<matplotlib.lines.Line2D at 0x783b35bbf340>]"
            ]
          },
          "metadata": {},
          "execution_count": 57
        },
        {
          "output_type": "display_data",
          "data": {
            "text/plain": [
              "<Figure size 640x480 with 1 Axes>"
            ],
            "image/png": "[encoded data removed]"
          },
          "metadata": {}
        }
      ]
    },
    {
      "cell_type": "code",
      "source": [],
      "metadata": {
        "id": "E9bt-lis1_OE"
      },
      "execution_count": null,
      "outputs": []
    }
  ]
}