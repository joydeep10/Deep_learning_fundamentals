{
  "nbformat": 4,
  "nbformat_minor": 0,
  "metadata": {
    "colab": {
      "provenance": [],
      "authorship_tag": "ABX9TyNShAHJV+a1fl21gTIAFqkz"
    },
    "kernelspec": {
      "name": "python3",
      "display_name": "Python 3"
    },
    "language_info": {
      "name": "python"
    }
  },
  "cells": [
    {
      "cell_type": "code",
      "execution_count": null,
      "metadata": {
        "id": "zkc8inVi_ej0"
      },
      "outputs": [],
      "source": [
        "import numpy as np\n",
        "import pandas as pd"
      ]
    },
    {
      "cell_type": "code",
      "source": [
        "from google.colab import drive\n",
        "drive.mount('/content/drive')"
      ],
      "metadata": {
        "colab": {
          "base_uri": "https://localhost:8080/"
        },
        "id": "97JHadct-0QO",
        "outputId": "e439012e-b345-4554-bec4-8db4c9d48c8b"
      },
      "execution_count": null,
      "outputs": [
        {
          "output_type": "stream",
          "name": "stdout",
          "text": [
            "Mounted at /content/drive\n"
          ]
        }
      ]
    },
    {
      "cell_type": "code",
      "source": [
        "df = pd.read_csv('/content/drive/MyDrive/Deep learning/diabetes.csv')"
      ],
      "metadata": {
        "id": "XzUlrM4j_yhv"
      },
      "execution_count": null,
      "outputs": []
    },
    {
      "cell_type": "code",
      "source": [
        "df.head()"
      ],
      "metadata": {
        "colab": {
          "base_uri": "https://localhost:8080/",
          "height": 206
        },
        "id": "y_Yi_Tnu_5Pl",
        "outputId": "ae83b5f0-77ad-4c89-9d43-50c5fa6a7822"
      },
      "execution_count": null,
      "outputs": [
        {
          "output_type": "execute_result",
          "data": {
            "text/plain": [
              "   Pregnancies  Glucose  BloodPressure  SkinThickness  Insulin   BMI  \\\n",
              "0            6      148             72             35        0  33.6   \n",
              "1            1       85             66             29        0  26.6   \n",
              "2            8      183             64              0        0  23.3   \n",
              "3            1       89             66             23       94  28.1   \n",
              "4            0      137             40             35      168  43.1   \n",
              "\n",
              "   DiabetesPedigreeFunction  Age  Outcome  \n",
              "0                     0.627   50        1  \n",
              "1                     0.351   31        0  \n",
              "2                     0.672   32        1  \n",
              "3                     0.167   21        0  \n",
              "4                     2.288   33        1  "
            ],
            "text/html": [
              "\n",
              "  <div id=\"df-a9b3ad53-3cbe-4044-9a7e-5c9c4f1ad57b\" class=\"colab-df-container\">\n",
              "    <div>\n",
              "<style scoped>\n",
              "    .dataframe tbody tr th:only-of-type {\n",
              "        vertical-align: middle;\n",
              "    }\n",
              "\n",
              "    .dataframe tbody tr th {\n",
              "        vertical-align: top;\n",
              "    }\n",
              "\n",
              "    .dataframe thead th {\n",
              "        text-align: right;\n",
              "    }\n",
              "</style>\n",
              "<table border=\"1\" class=\"dataframe\">\n",
              "  <thead>\n",
              "    <tr style=\"text-align: right;\">\n",
              "      <th></th>\n",
              "      <th>Pregnancies</th>\n",
              "      <th>Glucose</th>\n",
              "      <th>BloodPressure</th>\n",
              "      <th>SkinThickness</th>\n",
              "      <th>Insulin</th>\n",
              "      <th>BMI</th>\n",
              "      <th>DiabetesPedigreeFunction</th>\n",
              "      <th>Age</th>\n",
              "      <th>Outcome</th>\n",
              "    </tr>\n",
              "  </thead>\n",
              "  <tbody>\n",
              "    <tr>\n",
              "      <th>0</th>\n",
              "      <td>6</td>\n",
              "      <td>148</td>\n",
              "      <td>72</td>\n",
              "      <td>35</td>\n",
              "      <td>0</td>\n",
              "      <td>33.6</td>\n",
              "      <td>0.627</td>\n",
              "      <td>50</td>\n",
              "      <td>1</td>\n",
              "    </tr>\n",
              "    <tr>\n",
              "      <th>1</th>\n",
              "      <td>1</td>\n",
              "      <td>85</td>\n",
              "      <td>66</td>\n",
              "      <td>29</td>\n",
              "      <td>0</td>\n",
              "      <td>26.6</td>\n",
              "      <td>0.351</td>\n",
              "      <td>31</td>\n",
              "      <td>0</td>\n",
              "    </tr>\n",
              "    <tr>\n",
              "      <th>2</th>\n",
              "      <td>8</td>\n",
              "      <td>183</td>\n",
              "      <td>64</td>\n",
              "      <td>0</td>\n",
              "      <td>0</td>\n",
              "      <td>23.3</td>\n",
              "      <td>0.672</td>\n",
              "      <td>32</td>\n",
              "      <td>1</td>\n",
              "    </tr>\n",
              "    <tr>\n",
              "      <th>3</th>\n",
              "      <td>1</td>\n",
              "      <td>89</td>\n",
              "      <td>66</td>\n",
              "      <td>23</td>\n",
              "      <td>94</td>\n",
              "      <td>28.1</td>\n",
              "      <td>0.167</td>\n",
              "      <td>21</td>\n",
              "      <td>0</td>\n",
              "    </tr>\n",
              "    <tr>\n",
              "      <th>4</th>\n",
              "      <td>0</td>\n",
              "      <td>137</td>\n",
              "      <td>40</td>\n",
              "      <td>35</td>\n",
              "      <td>168</td>\n",
              "      <td>43.1</td>\n",
              "      <td>2.288</td>\n",
              "      <td>33</td>\n",
              "      <td>1</td>\n",
              "    </tr>\n",
              "  </tbody>\n",
              "</table>\n",
              "</div>\n",
              "    <div class=\"colab-df-buttons\">\n",
              "\n",
              "  <div class=\"colab-df-container\">\n",
              "    <button class=\"colab-df-convert\" onclick=\"convertToInteractive('df-a9b3ad53-3cbe-4044-9a7e-5c9c4f1ad57b')\"\n",
              "            title=\"Convert this dataframe to an interactive table.\"\n",
              "            style=\"display:none;\">\n",
              "\n",
              "  <svg xmlns=\"http://www.w3.org/2000/svg\" height=\"24px\" viewBox=\"0 -960 960 960\">\n",
              "    <path d=\"M120-120v-720h720v720H120Zm60-500h600v-160H180v160Zm220 220h160v-160H400v160Zm0 220h160v-160H400v160ZM180-400h160v-160H180v160Zm440 0h160v-160H620v160ZM180-180h160v-160H180v160Zm440 0h160v-160H620v160Z\"/>\n",
              "  </svg>\n",
              "    </button>\n",
              "\n",
              "  <style>\n",
              "    .colab-df-container {\n",
              "      display:flex;\n",
              "      gap: 12px;\n",
              "    }\n",
              "\n",
              "    .colab-df-convert {\n",
              "      background-color: #E8F0FE;\n",
              "      border: none;\n",
              "      border-radius: 50%;\n",
              "      cursor: pointer;\n",
              "      display: none;\n",
              "      fill: #1967D2;\n",
              "      height: 32px;\n",
              "      padding: 0 0 0 0;\n",
              "      width: 32px;\n",
              "    }\n",
              "\n",
              "    .colab-df-convert:hover {\n",
              "      background-color: #E2EBFA;\n",
              "      box-shadow: 0px 1px 2px rgba(60, 64, 67, 0.3), 0px 1px 3px 1px rgba(60, 64, 67, 0.15);\n",
              "      fill: #174EA6;\n",
              "    }\n",
              "\n",
              "    .colab-df-buttons div {\n",
              "      margin-bottom: 4px;\n",
              "    }\n",
              "\n",
              "    [theme=dark] .colab-df-convert {\n",
              "      background-color: #3B4455;\n",
              "      fill: #D2E3FC;\n",
              "    }\n",
              "\n",
              "    [theme=dark] .colab-df-convert:hover {\n",
              "      background-color: #434B5C;\n",
              "      box-shadow: 0px 1px 3px 1px rgba(0, 0, 0, 0.15);\n",
              "      filter: drop-shadow(0px 1px 2px rgba(0, 0, 0, 0.3));\n",
              "      fill: #FFFFFF;\n",
              "    }\n",
              "  </style>\n",
              "\n",
              "    <script>\n",
              "      const buttonEl =\n",
              "        document.querySelector('#df-a9b3ad53-3cbe-4044-9a7e-5c9c4f1ad57b button.colab-df-convert');\n",
              "      buttonEl.style.display =\n",
              "        google.colab.kernel.accessAllowed ? 'block' : 'none';\n",
              "\n",
              "      async function convertToInteractive(key) {\n",
              "        const element = document.querySelector('#df-a9b3ad53-3cbe-4044-9a7e-5c9c4f1ad57b');\n",
              "        const dataTable =\n",
              "          await google.colab.kernel.invokeFunction('convertToInteractive',\n",
              "                                                    [key], {});\n",
              "        if (!dataTable) return;\n",
              "\n",
              "        const docLinkHtml = 'Like what you see? Visit the ' +\n",
              "          '<a target=\"_blank\" href=https://colab.research.google.com/notebooks/data_table.ipynb>data table notebook</a>'\n",
              "          + ' to learn more about interactive tables.';\n",
              "        element.innerHTML = '';\n",
              "        dataTable['output_type'] = 'display_data';\n",
              "        await google.colab.output.renderOutput(dataTable, element);\n",
              "        const docLink = document.createElement('div');\n",
              "        docLink.innerHTML = docLinkHtml;\n",
              "        element.appendChild(docLink);\n",
              "      }\n",
              "    </script>\n",
              "  </div>\n",
              "\n",
              "\n",
              "<div id=\"df-dc1acab7-31a5-4f67-a801-50c76772d60d\">\n",
              "  <button class=\"colab-df-quickchart\" onclick=\"quickchart('df-dc1acab7-31a5-4f67-a801-50c76772d60d')\"\n",
              "            title=\"Suggest charts.\"\n",
              "            style=\"display:none;\">\n",
              "\n",
              "<svg xmlns=\"http://www.w3.org/2000/svg\" height=\"24px\"viewBox=\"0 0 24 24\"\n",
              "     width=\"24px\">\n",
              "    <g>\n",
              "        <path d=\"M19 3H5c-1.1 0-2 .9-2 2v14c0 1.1.9 2 2 2h14c1.1 0 2-.9 2-2V5c0-1.1-.9-2-2-2zM9 17H7v-7h2v7zm4 0h-2V7h2v10zm4 0h-2v-4h2v4z\"/>\n",
              "    </g>\n",
              "</svg>\n",
              "  </button>\n",
              "\n",
              "<style>\n",
              "  .colab-df-quickchart {\n",
              "      --bg-color: #E8F0FE;\n",
              "      --fill-color: #1967D2;\n",
              "      --hover-bg-color: #E2EBFA;\n",
              "      --hover-fill-color: #174EA6;\n",
              "      --disabled-fill-color: #AAA;\n",
              "      --disabled-bg-color: #DDD;\n",
              "  }\n",
              "\n",
              "  [theme=dark] .colab-df-quickchart {\n",
              "      --bg-color: #3B4455;\n",
              "      --fill-color: #D2E3FC;\n",
              "      --hover-bg-color: #434B5C;\n",
              "      --hover-fill-color: #FFFFFF;\n",
              "      --disabled-bg-color: #3B4455;\n",
              "      --disabled-fill-color: #666;\n",
              "  }\n",
              "\n",
              "  .colab-df-quickchart {\n",
              "    background-color: var(--bg-color);\n",
              "    border: none;\n",
              "    border-radius: 50%;\n",
              "    cursor: pointer;\n",
              "    display: none;\n",
              "    fill: var(--fill-color);\n",
              "    height: 32px;\n",
              "    padding: 0;\n",
              "    width: 32px;\n",
              "  }\n",
              "\n",
              "  .colab-df-quickchart:hover {\n",
              "    background-color: var(--hover-bg-color);\n",
              "    box-shadow: 0 1px 2px rgba(60, 64, 67, 0.3), 0 1px 3px 1px rgba(60, 64, 67, 0.15);\n",
              "    fill: var(--button-hover-fill-color);\n",
              "  }\n",
              "\n",
              "  .colab-df-quickchart-complete:disabled,\n",
              "  .colab-df-quickchart-complete:disabled:hover {\n",
              "    background-color: var(--disabled-bg-color);\n",
              "    fill: var(--disabled-fill-color);\n",
              "    box-shadow: none;\n",
              "  }\n",
              "\n",
              "  .colab-df-spinner {\n",
              "    border: 2px solid var(--fill-color);\n",
              "    border-color: transparent;\n",
              "    border-bottom-color: var(--fill-color);\n",
              "    animation:\n",
              "      spin 1s steps(1) infinite;\n",
              "  }\n",
              "\n",
              "  @keyframes spin {\n",
              "    0% {\n",
              "      border-color: transparent;\n",
              "      border-bottom-color: var(--fill-color);\n",
              "      border-left-color: var(--fill-color);\n",
              "    }\n",
              "    20% {\n",
              "      border-color: transparent;\n",
              "      border-left-color: var(--fill-color);\n",
              "      border-top-color: var(--fill-color);\n",
              "    }\n",
              "    30% {\n",
              "      border-color: transparent;\n",
              "      border-left-color: var(--fill-color);\n",
              "      border-top-color: var(--fill-color);\n",
              "      border-right-color: var(--fill-color);\n",
              "    }\n",
              "    40% {\n",
              "      border-color: transparent;\n",
              "      border-right-color: var(--fill-color);\n",
              "      border-top-color: var(--fill-color);\n",
              "    }\n",
              "    60% {\n",
              "      border-color: transparent;\n",
              "      border-right-color: var(--fill-color);\n",
              "    }\n",
              "    80% {\n",
              "      border-color: transparent;\n",
              "      border-right-color: var(--fill-color);\n",
              "      border-bottom-color: var(--fill-color);\n",
              "    }\n",
              "    90% {\n",
              "      border-color: transparent;\n",
              "      border-bottom-color: var(--fill-color);\n",
              "    }\n",
              "  }\n",
              "</style>\n",
              "\n",
              "  <script>\n",
              "    async function quickchart(key) {\n",
              "      const quickchartButtonEl =\n",
              "        document.querySelector('#' + key + ' button');\n",
              "      quickchartButtonEl.disabled = true;  // To prevent multiple clicks.\n",
              "      quickchartButtonEl.classList.add('colab-df-spinner');\n",
              "      try {\n",
              "        const charts = await google.colab.kernel.invokeFunction(\n",
              "            'suggestCharts', [key], {});\n",
              "      } catch (error) {\n",
              "        console.error('Error during call to suggestCharts:', error);\n",
              "      }\n",
              "      quickchartButtonEl.classList.remove('colab-df-spinner');\n",
              "      quickchartButtonEl.classList.add('colab-df-quickchart-complete');\n",
              "    }\n",
              "    (() => {\n",
              "      let quickchartButtonEl =\n",
              "        document.querySelector('#df-dc1acab7-31a5-4f67-a801-50c76772d60d button');\n",
              "      quickchartButtonEl.style.display =\n",
              "        google.colab.kernel.accessAllowed ? 'block' : 'none';\n",
              "    })();\n",
              "  </script>\n",
              "</div>\n",
              "    </div>\n",
              "  </div>\n"
            ]
          },
          "metadata": {},
          "execution_count": 4
        }
      ]
    },
    {
      "cell_type": "code",
      "source": [
        "df.corr()['Outcome']"
      ],
      "metadata": {
        "colab": {
          "base_uri": "https://localhost:8080/"
        },
        "id": "DbBtd31q__A1",
        "outputId": "abf002a7-6f47-4c35-d3c0-c39ab2373b39"
      },
      "execution_count": null,
      "outputs": [
        {
          "output_type": "execute_result",
          "data": {
            "text/plain": [
              "Pregnancies                 0.221898\n",
              "Glucose                     0.466581\n",
              "BloodPressure               0.065068\n",
              "SkinThickness               0.074752\n",
              "Insulin                     0.130548\n",
              "BMI                         0.292695\n",
              "DiabetesPedigreeFunction    0.173844\n",
              "Age                         0.238356\n",
              "Outcome                     1.000000\n",
              "Name: Outcome, dtype: float64"
            ]
          },
          "metadata": {},
          "execution_count": 5
        }
      ]
    },
    {
      "cell_type": "code",
      "source": [
        "x = df.iloc[:,:-1].values\n",
        "y = df.iloc[:,-1].values"
      ],
      "metadata": {
        "id": "ZAnAdiYbARrF"
      },
      "execution_count": null,
      "outputs": []
    },
    {
      "cell_type": "code",
      "source": [
        "from sklearn.preprocessing import StandardScaler\n",
        "scalar = StandardScaler()"
      ],
      "metadata": {
        "id": "RDHNyTjGBYIe"
      },
      "execution_count": null,
      "outputs": []
    },
    {
      "cell_type": "code",
      "source": [
        "x = scalar.fit_transform(x)"
      ],
      "metadata": {
        "id": "U0C5pgviCgJd"
      },
      "execution_count": null,
      "outputs": []
    },
    {
      "cell_type": "code",
      "source": [
        "x"
      ],
      "metadata": {
        "colab": {
          "base_uri": "https://localhost:8080/"
        },
        "id": "l-IpDos2CkCt",
        "outputId": "df990d14-5edf-4a03-dc6c-9f9183e5cc71"
      },
      "execution_count": null,
      "outputs": [
        {
          "output_type": "execute_result",
          "data": {
            "text/plain": [
              "array([[ 0.63994726,  0.84832379,  0.14964075, ...,  0.20401277,\n",
              "         0.46849198,  1.4259954 ],\n",
              "       [-0.84488505, -1.12339636, -0.16054575, ..., -0.68442195,\n",
              "        -0.36506078, -0.19067191],\n",
              "       [ 1.23388019,  1.94372388, -0.26394125, ..., -1.10325546,\n",
              "         0.60439732, -0.10558415],\n",
              "       ...,\n",
              "       [ 0.3429808 ,  0.00330087,  0.14964075, ..., -0.73518964,\n",
              "        -0.68519336, -0.27575966],\n",
              "       [-0.84488505,  0.1597866 , -0.47073225, ..., -0.24020459,\n",
              "        -0.37110101,  1.17073215],\n",
              "       [-0.84488505, -0.8730192 ,  0.04624525, ..., -0.20212881,\n",
              "        -0.47378505, -0.87137393]])"
            ]
          },
          "metadata": {},
          "execution_count": 9
        }
      ]
    },
    {
      "cell_type": "code",
      "source": [
        "from sklearn.model_selection import train_test_split\n",
        "X_train, X_test, y_train, y_test = train_test_split(\n",
        "    x, y, test_size=0.33, random_state=42)"
      ],
      "metadata": {
        "id": "87ppw1_4Ck39"
      },
      "execution_count": null,
      "outputs": []
    },
    {
      "cell_type": "code",
      "source": [
        "import tensorflow\n",
        "from tensorflow import keras\n",
        "from keras import Sequential\n",
        "from keras.layers import Dense"
      ],
      "metadata": {
        "id": "BKQvGKZIDhwe"
      },
      "execution_count": null,
      "outputs": []
    },
    {
      "cell_type": "code",
      "source": [
        "model = Sequential()\n",
        "model.add(Dense(32,activation='relu',input_dim=8))\n",
        "model.add(Dense(4,activation='relu'))\n",
        "model.add(Dense(1,activation='sigmoid'))\n",
        "\n",
        "model.compile(optimizer='Adam', loss='binary_crossentropy',metrics=['accuracy'])"
      ],
      "metadata": {
        "id": "BOZ_b8_lDvO2"
      },
      "execution_count": null,
      "outputs": []
    },
    {
      "cell_type": "code",
      "source": [
        "model.fit(X_train,y_train,batch_size=32, epochs=50, validation_data = (X_test,y_test))"
      ],
      "metadata": {
        "colab": {
          "base_uri": "https://localhost:8080/"
        },
        "id": "znzgQOkNErHQ",
        "outputId": "f11eef54-0c9a-404d-d0f0-bff9564136ff"
      },
      "execution_count": null,
      "outputs": [
        {
          "output_type": "stream",
          "name": "stdout",
          "text": [
            "Epoch 1/50\n",
            "17/17 [==============================] - 2s 18ms/step - loss: 0.7047 - accuracy: 0.5331 - val_loss: 0.6900 - val_accuracy: 0.5709\n",
            "Epoch 2/50\n",
            "17/17 [==============================] - 0s 5ms/step - loss: 0.6680 - accuracy: 0.6498 - val_loss: 0.6614 - val_accuracy: 0.6299\n",
            "Epoch 3/50\n",
            "17/17 [==============================] - 0s 5ms/step - loss: 0.6430 - accuracy: 0.6984 - val_loss: 0.6385 - val_accuracy: 0.6890\n",
            "Epoch 4/50\n",
            "17/17 [==============================] - 0s 5ms/step - loss: 0.6210 - accuracy: 0.7276 - val_loss: 0.6192 - val_accuracy: 0.6969\n",
            "Epoch 5/50\n",
            "17/17 [==============================] - 0s 4ms/step - loss: 0.6005 - accuracy: 0.7471 - val_loss: 0.6000 - val_accuracy: 0.7047\n",
            "Epoch 6/50\n",
            "17/17 [==============================] - 0s 5ms/step - loss: 0.5781 - accuracy: 0.7510 - val_loss: 0.5750 - val_accuracy: 0.7283\n",
            "Epoch 7/50\n",
            "17/17 [==============================] - 0s 5ms/step - loss: 0.5480 - accuracy: 0.7529 - val_loss: 0.5506 - val_accuracy: 0.7402\n",
            "Epoch 8/50\n",
            "17/17 [==============================] - 0s 4ms/step - loss: 0.5199 - accuracy: 0.7626 - val_loss: 0.5340 - val_accuracy: 0.7559\n",
            "Epoch 9/50\n",
            "17/17 [==============================] - 0s 4ms/step - loss: 0.4990 - accuracy: 0.7665 - val_loss: 0.5206 - val_accuracy: 0.7520\n",
            "Epoch 10/50\n",
            "17/17 [==============================] - 0s 4ms/step - loss: 0.4843 - accuracy: 0.7685 - val_loss: 0.5137 - val_accuracy: 0.7441\n",
            "Epoch 11/50\n",
            "17/17 [==============================] - 0s 17ms/step - loss: 0.4754 - accuracy: 0.7724 - val_loss: 0.5083 - val_accuracy: 0.7402\n",
            "Epoch 12/50\n",
            "17/17 [==============================] - 0s 4ms/step - loss: 0.4685 - accuracy: 0.7763 - val_loss: 0.5058 - val_accuracy: 0.7441\n",
            "Epoch 13/50\n",
            "17/17 [==============================] - 0s 4ms/step - loss: 0.4618 - accuracy: 0.7860 - val_loss: 0.5009 - val_accuracy: 0.7638\n",
            "Epoch 14/50\n",
            "17/17 [==============================] - 0s 5ms/step - loss: 0.4564 - accuracy: 0.7899 - val_loss: 0.4999 - val_accuracy: 0.7520\n",
            "Epoch 15/50\n",
            "17/17 [==============================] - 0s 5ms/step - loss: 0.4509 - accuracy: 0.7879 - val_loss: 0.4986 - val_accuracy: 0.7598\n",
            "Epoch 16/50\n",
            "17/17 [==============================] - 0s 5ms/step - loss: 0.4472 - accuracy: 0.7879 - val_loss: 0.4982 - val_accuracy: 0.7598\n",
            "Epoch 17/50\n",
            "17/17 [==============================] - 0s 5ms/step - loss: 0.4434 - accuracy: 0.7899 - val_loss: 0.4979 - val_accuracy: 0.7638\n",
            "Epoch 18/50\n",
            "17/17 [==============================] - 0s 5ms/step - loss: 0.4393 - accuracy: 0.7879 - val_loss: 0.5006 - val_accuracy: 0.7520\n",
            "Epoch 19/50\n",
            "17/17 [==============================] - 0s 5ms/step - loss: 0.4366 - accuracy: 0.7899 - val_loss: 0.5009 - val_accuracy: 0.7598\n",
            "Epoch 20/50\n",
            "17/17 [==============================] - 0s 4ms/step - loss: 0.4344 - accuracy: 0.7938 - val_loss: 0.5000 - val_accuracy: 0.7598\n",
            "Epoch 21/50\n",
            "17/17 [==============================] - 0s 4ms/step - loss: 0.4330 - accuracy: 0.7938 - val_loss: 0.5001 - val_accuracy: 0.7520\n",
            "Epoch 22/50\n",
            "17/17 [==============================] - 0s 4ms/step - loss: 0.4301 - accuracy: 0.7938 - val_loss: 0.5013 - val_accuracy: 0.7520\n",
            "Epoch 23/50\n",
            "17/17 [==============================] - 0s 4ms/step - loss: 0.4279 - accuracy: 0.7899 - val_loss: 0.5025 - val_accuracy: 0.7520\n",
            "Epoch 24/50\n",
            "17/17 [==============================] - 0s 5ms/step - loss: 0.4258 - accuracy: 0.7938 - val_loss: 0.5044 - val_accuracy: 0.7559\n",
            "Epoch 25/50\n",
            "17/17 [==============================] - 0s 5ms/step - loss: 0.4243 - accuracy: 0.7918 - val_loss: 0.5053 - val_accuracy: 0.7559\n",
            "Epoch 26/50\n",
            "17/17 [==============================] - 0s 4ms/step - loss: 0.4227 - accuracy: 0.7938 - val_loss: 0.5044 - val_accuracy: 0.7559\n",
            "Epoch 27/50\n",
            "17/17 [==============================] - 0s 4ms/step - loss: 0.4220 - accuracy: 0.7918 - val_loss: 0.5044 - val_accuracy: 0.7559\n",
            "Epoch 28/50\n",
            "17/17 [==============================] - 0s 4ms/step - loss: 0.4218 - accuracy: 0.7918 - val_loss: 0.5044 - val_accuracy: 0.7559\n",
            "Epoch 29/50\n",
            "17/17 [==============================] - 0s 5ms/step - loss: 0.4208 - accuracy: 0.7879 - val_loss: 0.5040 - val_accuracy: 0.7559\n",
            "Epoch 30/50\n",
            "17/17 [==============================] - 0s 4ms/step - loss: 0.4189 - accuracy: 0.7918 - val_loss: 0.5041 - val_accuracy: 0.7559\n",
            "Epoch 31/50\n",
            "17/17 [==============================] - 0s 4ms/step - loss: 0.4175 - accuracy: 0.7957 - val_loss: 0.5055 - val_accuracy: 0.7559\n",
            "Epoch 32/50\n",
            "17/17 [==============================] - 0s 4ms/step - loss: 0.4167 - accuracy: 0.7957 - val_loss: 0.5078 - val_accuracy: 0.7520\n",
            "Epoch 33/50\n",
            "17/17 [==============================] - 0s 4ms/step - loss: 0.4155 - accuracy: 0.7996 - val_loss: 0.5082 - val_accuracy: 0.7480\n",
            "Epoch 34/50\n",
            "17/17 [==============================] - 0s 4ms/step - loss: 0.4139 - accuracy: 0.7977 - val_loss: 0.5093 - val_accuracy: 0.7480\n",
            "Epoch 35/50\n",
            "17/17 [==============================] - 0s 4ms/step - loss: 0.4134 - accuracy: 0.8054 - val_loss: 0.5152 - val_accuracy: 0.7520\n",
            "Epoch 36/50\n",
            "17/17 [==============================] - 0s 4ms/step - loss: 0.4121 - accuracy: 0.8035 - val_loss: 0.5141 - val_accuracy: 0.7480\n",
            "Epoch 37/50\n",
            "17/17 [==============================] - 0s 5ms/step - loss: 0.4106 - accuracy: 0.7996 - val_loss: 0.5121 - val_accuracy: 0.7480\n",
            "Epoch 38/50\n",
            "17/17 [==============================] - 0s 4ms/step - loss: 0.4099 - accuracy: 0.8054 - val_loss: 0.5137 - val_accuracy: 0.7559\n",
            "Epoch 39/50\n",
            "17/17 [==============================] - 0s 4ms/step - loss: 0.4084 - accuracy: 0.8016 - val_loss: 0.5196 - val_accuracy: 0.7441\n",
            "Epoch 40/50\n",
            "17/17 [==============================] - 0s 4ms/step - loss: 0.4083 - accuracy: 0.8016 - val_loss: 0.5178 - val_accuracy: 0.7480\n",
            "Epoch 41/50\n",
            "17/17 [==============================] - 0s 4ms/step - loss: 0.4067 - accuracy: 0.8035 - val_loss: 0.5206 - val_accuracy: 0.7520\n",
            "Epoch 42/50\n",
            "17/17 [==============================] - 0s 5ms/step - loss: 0.4069 - accuracy: 0.7977 - val_loss: 0.5178 - val_accuracy: 0.7520\n",
            "Epoch 43/50\n",
            "17/17 [==============================] - 0s 5ms/step - loss: 0.4050 - accuracy: 0.8113 - val_loss: 0.5174 - val_accuracy: 0.7559\n",
            "Epoch 44/50\n",
            "17/17 [==============================] - 0s 4ms/step - loss: 0.4035 - accuracy: 0.8016 - val_loss: 0.5177 - val_accuracy: 0.7559\n",
            "Epoch 45/50\n",
            "17/17 [==============================] - 0s 4ms/step - loss: 0.4025 - accuracy: 0.8016 - val_loss: 0.5189 - val_accuracy: 0.7559\n",
            "Epoch 46/50\n",
            "17/17 [==============================] - 0s 5ms/step - loss: 0.4017 - accuracy: 0.8035 - val_loss: 0.5164 - val_accuracy: 0.7598\n",
            "Epoch 47/50\n",
            "17/17 [==============================] - 0s 5ms/step - loss: 0.4014 - accuracy: 0.8074 - val_loss: 0.5168 - val_accuracy: 0.7559\n",
            "Epoch 48/50\n",
            "17/17 [==============================] - 0s 5ms/step - loss: 0.4007 - accuracy: 0.8113 - val_loss: 0.5180 - val_accuracy: 0.7559\n",
            "Epoch 49/50\n",
            "17/17 [==============================] - 0s 4ms/step - loss: 0.3993 - accuracy: 0.8113 - val_loss: 0.5223 - val_accuracy: 0.7559\n",
            "Epoch 50/50\n",
            "17/17 [==============================] - 0s 4ms/step - loss: 0.3986 - accuracy: 0.8054 - val_loss: 0.5216 - val_accuracy: 0.7559\n"
          ]
        },
        {
          "output_type": "execute_result",
          "data": {
            "text/plain": [
              "<keras.src.callbacks.History at 0x7b36d81d56c0>"
            ]
          },
          "metadata": {},
          "execution_count": 13
        }
      ]
    },
    {
      "cell_type": "markdown",
      "source": [
        "let us now learn:-\n",
        "\n",
        "\n",
        "*  how to select appropriate optimizer\n",
        "*   no of nodes in a layer\n",
        "*  no of layers\n",
        "* all of the baove can be done using keras tuner library   \n",
        "\n",
        "\n",
        "\n",
        "\n",
        "\n",
        "\n",
        "\n"
      ],
      "metadata": {
        "id": "We_vVxA3GW93"
      }
    },
    {
      "cell_type": "code",
      "source": [
        "pip install -U keras-tuner"
      ],
      "metadata": {
        "colab": {
          "base_uri": "https://localhost:8080/"
        },
        "id": "rCe6-oDKFAnm",
        "outputId": "4821d8cf-b5af-48de-e891-c83242bef119"
      },
      "execution_count": null,
      "outputs": [
        {
          "output_type": "stream",
          "name": "stdout",
          "text": [
            "Collecting keras-tuner\n",
            "  Downloading keras_tuner-1.4.5-py3-none-any.whl (129 kB)\n",
            "\u001b[2K     \u001b[90m━━━━━━━━━━━━━━━━━━━━━━━━━━━━━━━━━━━━━━━━\u001b[0m \u001b[32m129.5/129.5 kB\u001b[0m \u001b[31m2.8 MB/s\u001b[0m eta \u001b[36m0:00:00\u001b[0m\n",
            "\u001b[?25hCollecting keras-core (from keras-tuner)\n",
            "  Downloading keras_core-0.1.7-py3-none-any.whl (950 kB)\n",
            "\u001b[2K     \u001b[90m━━━━━━━━━━━━━━━━━━━━━━━━━━━━━━━━━━━━━━━━\u001b[0m \u001b[32m950.8/950.8 kB\u001b[0m \u001b[31m24.2 MB/s\u001b[0m eta \u001b[36m0:00:00\u001b[0m\n",
            "\u001b[?25hRequirement already satisfied: packaging in /usr/local/lib/python3.10/dist-packages (from keras-tuner) (23.2)\n",
            "Requirement already satisfied: requests in /usr/local/lib/python3.10/dist-packages (from keras-tuner) (2.31.0)\n",
            "Collecting kt-legacy (from keras-tuner)\n",
            "  Downloading kt_legacy-1.0.5-py3-none-any.whl (9.6 kB)\n",
            "Requirement already satisfied: absl-py in /usr/local/lib/python3.10/dist-packages (from keras-core->keras-tuner) (1.4.0)\n",
            "Requirement already satisfied: numpy in /usr/local/lib/python3.10/dist-packages (from keras-core->keras-tuner) (1.23.5)\n",
            "Requirement already satisfied: rich in /usr/local/lib/python3.10/dist-packages (from keras-core->keras-tuner) (13.6.0)\n",
            "Collecting namex (from keras-core->keras-tuner)\n",
            "  Downloading namex-0.0.7-py3-none-any.whl (5.8 kB)\n",
            "Requirement already satisfied: h5py in /usr/local/lib/python3.10/dist-packages (from keras-core->keras-tuner) (3.9.0)\n",
            "Requirement already satisfied: dm-tree in /usr/local/lib/python3.10/dist-packages (from keras-core->keras-tuner) (0.1.8)\n",
            "Requirement already satisfied: charset-normalizer<4,>=2 in /usr/local/lib/python3.10/dist-packages (from requests->keras-tuner) (3.3.0)\n",
            "Requirement already satisfied: idna<4,>=2.5 in /usr/local/lib/python3.10/dist-packages (from requests->keras-tuner) (3.4)\n",
            "Requirement already satisfied: urllib3<3,>=1.21.1 in /usr/local/lib/python3.10/dist-packages (from requests->keras-tuner) (2.0.7)\n",
            "Requirement already satisfied: certifi>=2017.4.17 in /usr/local/lib/python3.10/dist-packages (from requests->keras-tuner) (2023.7.22)\n",
            "Requirement already satisfied: markdown-it-py>=2.2.0 in /usr/local/lib/python3.10/dist-packages (from rich->keras-core->keras-tuner) (3.0.0)\n",
            "Requirement already satisfied: pygments<3.0.0,>=2.13.0 in /usr/local/lib/python3.10/dist-packages (from rich->keras-core->keras-tuner) (2.16.1)\n",
            "Requirement already satisfied: mdurl~=0.1 in /usr/local/lib/python3.10/dist-packages (from markdown-it-py>=2.2.0->rich->keras-core->keras-tuner) (0.1.2)\n",
            "Installing collected packages: namex, kt-legacy, keras-core, keras-tuner\n",
            "Successfully installed keras-core-0.1.7 keras-tuner-1.4.5 kt-legacy-1.0.5 namex-0.0.7\n"
          ]
        }
      ]
    },
    {
      "cell_type": "code",
      "source": [
        "import keras_tuner as kt"
      ],
      "metadata": {
        "id": "u3xLS5HCG9Rf",
        "colab": {
          "base_uri": "https://localhost:8080/"
        },
        "outputId": "15dc89f4-c937-4d21-fb9d-50a67d1ae611"
      },
      "execution_count": null,
      "outputs": [
        {
          "output_type": "stream",
          "name": "stdout",
          "text": [
            "Using TensorFlow backend\n"
          ]
        }
      ]
    },
    {
      "cell_type": "code",
      "source": [
        "def build_model(hp):\n",
        "  model = Sequential()\n",
        "\n",
        "  model.add(Dense(32,activation='relu',input_dim=8))\n",
        "  model.add(Dense(1, activation='sigmoid'))\n",
        "\n",
        "  optimizer = hp.Choice('optimizer', values = ['adam', 'sgd', 'rmsprop', 'adadelta'])\n",
        "\n",
        "  model.compile(optimizer = optimizer, loss = 'binary_crossentropy', metrics=['accuracy'])\n",
        "\n",
        "  return model"
      ],
      "metadata": {
        "id": "Ikx-tyLmHDoW"
      },
      "execution_count": null,
      "outputs": []
    },
    {
      "cell_type": "code",
      "source": [
        "tuner = kt.RandomSearch(build_model, objective='val_accuracy', max_trials=5)"
      ],
      "metadata": {
        "id": "kTzBrB4zKVNI"
      },
      "execution_count": null,
      "outputs": []
    },
    {
      "cell_type": "code",
      "source": [
        "tuner.search(X_train, y_train, epochs=5, validation_data=(X_test,y_test))"
      ],
      "metadata": {
        "id": "eNQmXfzOLd_3",
        "colab": {
          "base_uri": "https://localhost:8080/"
        },
        "outputId": "c2af5c1b-3473-4fdb-dc44-ed107a0c882b"
      },
      "execution_count": null,
      "outputs": [
        {
          "output_type": "stream",
          "name": "stdout",
          "text": [
            "Trial 4 Complete [00h 00m 03s]\n",
            "val_accuracy: 0.7322834730148315\n",
            "\n",
            "Best val_accuracy So Far: 0.7322834730148315\n",
            "Total elapsed time: 00h 00m 09s\n"
          ]
        }
      ]
    },
    {
      "cell_type": "code",
      "source": [
        "tuner.get_best_hyperparameters()[0].values"
      ],
      "metadata": {
        "colab": {
          "base_uri": "https://localhost:8080/"
        },
        "id": "hKR02FRGMFqw",
        "outputId": "a0485c6a-6039-4319-ac33-b5cde44b7e63"
      },
      "execution_count": null,
      "outputs": [
        {
          "output_type": "execute_result",
          "data": {
            "text/plain": [
              "{'optimizer': 'sgd'}"
            ]
          },
          "metadata": {},
          "execution_count": 19
        }
      ]
    },
    {
      "cell_type": "code",
      "source": [
        "model = tuner.get_best_models(num_models=1)[0]"
      ],
      "metadata": {
        "id": "hkhjAMnkMiOY"
      },
      "execution_count": null,
      "outputs": []
    },
    {
      "cell_type": "code",
      "source": [
        "model.summary()"
      ],
      "metadata": {
        "colab": {
          "base_uri": "https://localhost:8080/"
        },
        "id": "fYXY67DiM6Do",
        "outputId": "01eb47d4-13a2-43bf-8a15-0cc2c1f3dc69"
      },
      "execution_count": null,
      "outputs": [
        {
          "output_type": "stream",
          "name": "stdout",
          "text": [
            "Model: \"sequential\"\n",
            "_________________________________________________________________\n",
            " Layer (type)                Output Shape              Param #   \n",
            "=================================================================\n",
            " dense (Dense)               (None, 32)                288       \n",
            "                                                                 \n",
            " dense_1 (Dense)             (None, 1)                 33        \n",
            "                                                                 \n",
            "=================================================================\n",
            "Total params: 321 (1.25 KB)\n",
            "Trainable params: 321 (1.25 KB)\n",
            "Non-trainable params: 0 (0.00 Byte)\n",
            "_________________________________________________________________\n"
          ]
        }
      ]
    },
    {
      "cell_type": "code",
      "source": [
        "model.fit(X_train, y_train, batch_size=32, epochs=100, initial_epoch=6, validation_data=(X_test,y_test))"
      ],
      "metadata": {
        "id": "sJFXtHisM89Q",
        "colab": {
          "base_uri": "https://localhost:8080/"
        },
        "outputId": "3dbb71ee-99d1-4853-d961-54b518c1d7dd"
      },
      "execution_count": null,
      "outputs": [
        {
          "output_type": "stream",
          "name": "stdout",
          "text": [
            "Epoch 7/100\n",
            "17/17 [==============================] - 1s 23ms/step - loss: 0.6041 - accuracy: 0.6965 - val_loss: 0.5949 - val_accuracy: 0.7402\n",
            "Epoch 8/100\n",
            "17/17 [==============================] - 0s 6ms/step - loss: 0.5945 - accuracy: 0.7004 - val_loss: 0.5863 - val_accuracy: 0.7362\n",
            "Epoch 9/100\n",
            "17/17 [==============================] - 0s 4ms/step - loss: 0.5847 - accuracy: 0.7160 - val_loss: 0.5784 - val_accuracy: 0.7520\n",
            "Epoch 10/100\n",
            "17/17 [==============================] - 0s 4ms/step - loss: 0.5755 - accuracy: 0.7276 - val_loss: 0.5720 - val_accuracy: 0.7480\n",
            "Epoch 11/100\n",
            "17/17 [==============================] - 0s 4ms/step - loss: 0.5675 - accuracy: 0.7374 - val_loss: 0.5643 - val_accuracy: 0.7520\n",
            "Epoch 12/100\n",
            "17/17 [==============================] - 0s 4ms/step - loss: 0.5591 - accuracy: 0.7393 - val_loss: 0.5581 - val_accuracy: 0.7520\n",
            "Epoch 13/100\n",
            "17/17 [==============================] - 0s 4ms/step - loss: 0.5521 - accuracy: 0.7393 - val_loss: 0.5524 - val_accuracy: 0.7559\n",
            "Epoch 14/100\n",
            "17/17 [==============================] - 0s 5ms/step - loss: 0.5453 - accuracy: 0.7432 - val_loss: 0.5475 - val_accuracy: 0.7598\n",
            "Epoch 15/100\n",
            "17/17 [==============================] - 0s 6ms/step - loss: 0.5393 - accuracy: 0.7510 - val_loss: 0.5429 - val_accuracy: 0.7559\n",
            "Epoch 16/100\n",
            "17/17 [==============================] - 0s 5ms/step - loss: 0.5335 - accuracy: 0.7451 - val_loss: 0.5382 - val_accuracy: 0.7638\n",
            "Epoch 17/100\n",
            "17/17 [==============================] - 0s 6ms/step - loss: 0.5278 - accuracy: 0.7510 - val_loss: 0.5339 - val_accuracy: 0.7677\n",
            "Epoch 18/100\n",
            "17/17 [==============================] - 0s 6ms/step - loss: 0.5230 - accuracy: 0.7510 - val_loss: 0.5299 - val_accuracy: 0.7677\n",
            "Epoch 19/100\n",
            "17/17 [==============================] - 0s 6ms/step - loss: 0.5182 - accuracy: 0.7471 - val_loss: 0.5265 - val_accuracy: 0.7717\n",
            "Epoch 20/100\n",
            "17/17 [==============================] - 0s 6ms/step - loss: 0.5137 - accuracy: 0.7510 - val_loss: 0.5233 - val_accuracy: 0.7677\n",
            "Epoch 21/100\n",
            "17/17 [==============================] - 0s 6ms/step - loss: 0.5097 - accuracy: 0.7490 - val_loss: 0.5202 - val_accuracy: 0.7677\n",
            "Epoch 22/100\n",
            "17/17 [==============================] - 0s 8ms/step - loss: 0.5056 - accuracy: 0.7588 - val_loss: 0.5177 - val_accuracy: 0.7717\n",
            "Epoch 23/100\n",
            "17/17 [==============================] - 0s 11ms/step - loss: 0.5018 - accuracy: 0.7588 - val_loss: 0.5147 - val_accuracy: 0.7756\n",
            "Epoch 24/100\n",
            "17/17 [==============================] - 0s 11ms/step - loss: 0.4986 - accuracy: 0.7646 - val_loss: 0.5118 - val_accuracy: 0.7835\n",
            "Epoch 25/100\n",
            "17/17 [==============================] - 0s 11ms/step - loss: 0.4949 - accuracy: 0.7665 - val_loss: 0.5096 - val_accuracy: 0.7874\n",
            "Epoch 26/100\n",
            "17/17 [==============================] - 0s 6ms/step - loss: 0.4914 - accuracy: 0.7646 - val_loss: 0.5073 - val_accuracy: 0.7874\n",
            "Epoch 27/100\n",
            "17/17 [==============================] - 0s 6ms/step - loss: 0.4884 - accuracy: 0.7685 - val_loss: 0.5054 - val_accuracy: 0.7953\n",
            "Epoch 28/100\n",
            "17/17 [==============================] - 0s 6ms/step - loss: 0.4854 - accuracy: 0.7685 - val_loss: 0.5038 - val_accuracy: 0.7953\n",
            "Epoch 29/100\n",
            "17/17 [==============================] - 0s 6ms/step - loss: 0.4830 - accuracy: 0.7704 - val_loss: 0.5019 - val_accuracy: 0.7992\n",
            "Epoch 30/100\n",
            "17/17 [==============================] - 0s 6ms/step - loss: 0.4801 - accuracy: 0.7685 - val_loss: 0.5004 - val_accuracy: 0.7992\n",
            "Epoch 31/100\n",
            "17/17 [==============================] - 0s 6ms/step - loss: 0.4777 - accuracy: 0.7782 - val_loss: 0.4991 - val_accuracy: 0.7953\n",
            "Epoch 32/100\n",
            "17/17 [==============================] - 0s 6ms/step - loss: 0.4755 - accuracy: 0.7724 - val_loss: 0.4979 - val_accuracy: 0.7992\n",
            "Epoch 33/100\n",
            "17/17 [==============================] - 0s 6ms/step - loss: 0.4733 - accuracy: 0.7724 - val_loss: 0.4966 - val_accuracy: 0.7992\n",
            "Epoch 34/100\n",
            "17/17 [==============================] - 0s 6ms/step - loss: 0.4713 - accuracy: 0.7763 - val_loss: 0.4953 - val_accuracy: 0.7992\n",
            "Epoch 35/100\n",
            "17/17 [==============================] - 0s 6ms/step - loss: 0.4696 - accuracy: 0.7743 - val_loss: 0.4944 - val_accuracy: 0.7953\n",
            "Epoch 36/100\n",
            "17/17 [==============================] - 0s 6ms/step - loss: 0.4678 - accuracy: 0.7763 - val_loss: 0.4932 - val_accuracy: 0.7953\n",
            "Epoch 37/100\n",
            "17/17 [==============================] - 0s 6ms/step - loss: 0.4665 - accuracy: 0.7743 - val_loss: 0.4926 - val_accuracy: 0.7953\n",
            "Epoch 38/100\n",
            "17/17 [==============================] - 0s 6ms/step - loss: 0.4649 - accuracy: 0.7782 - val_loss: 0.4916 - val_accuracy: 0.7953\n",
            "Epoch 39/100\n",
            "17/17 [==============================] - 0s 5ms/step - loss: 0.4634 - accuracy: 0.7763 - val_loss: 0.4908 - val_accuracy: 0.7953\n",
            "Epoch 40/100\n",
            "17/17 [==============================] - 0s 5ms/step - loss: 0.4620 - accuracy: 0.7821 - val_loss: 0.4899 - val_accuracy: 0.7913\n",
            "Epoch 41/100\n",
            "17/17 [==============================] - 0s 7ms/step - loss: 0.4604 - accuracy: 0.7763 - val_loss: 0.4895 - val_accuracy: 0.7913\n",
            "Epoch 42/100\n",
            "17/17 [==============================] - 0s 6ms/step - loss: 0.4591 - accuracy: 0.7821 - val_loss: 0.4891 - val_accuracy: 0.7913\n",
            "Epoch 43/100\n",
            "17/17 [==============================] - 0s 5ms/step - loss: 0.4578 - accuracy: 0.7821 - val_loss: 0.4883 - val_accuracy: 0.7953\n",
            "Epoch 44/100\n",
            "17/17 [==============================] - 0s 6ms/step - loss: 0.4566 - accuracy: 0.7821 - val_loss: 0.4875 - val_accuracy: 0.7913\n",
            "Epoch 45/100\n",
            "17/17 [==============================] - 0s 6ms/step - loss: 0.4553 - accuracy: 0.7821 - val_loss: 0.4870 - val_accuracy: 0.7913\n",
            "Epoch 46/100\n",
            "17/17 [==============================] - 0s 7ms/step - loss: 0.4540 - accuracy: 0.7821 - val_loss: 0.4865 - val_accuracy: 0.7913\n",
            "Epoch 47/100\n",
            "17/17 [==============================] - 0s 7ms/step - loss: 0.4528 - accuracy: 0.7821 - val_loss: 0.4860 - val_accuracy: 0.7913\n",
            "Epoch 48/100\n",
            "17/17 [==============================] - 0s 6ms/step - loss: 0.4516 - accuracy: 0.7821 - val_loss: 0.4855 - val_accuracy: 0.7913\n",
            "Epoch 49/100\n",
            "17/17 [==============================] - 0s 6ms/step - loss: 0.4506 - accuracy: 0.7821 - val_loss: 0.4849 - val_accuracy: 0.7874\n",
            "Epoch 50/100\n",
            "17/17 [==============================] - 0s 5ms/step - loss: 0.4494 - accuracy: 0.7821 - val_loss: 0.4845 - val_accuracy: 0.7874\n",
            "Epoch 51/100\n",
            "17/17 [==============================] - 0s 7ms/step - loss: 0.4486 - accuracy: 0.7840 - val_loss: 0.4844 - val_accuracy: 0.7874\n",
            "Epoch 52/100\n",
            "17/17 [==============================] - 0s 13ms/step - loss: 0.4476 - accuracy: 0.7840 - val_loss: 0.4841 - val_accuracy: 0.7835\n",
            "Epoch 53/100\n",
            "17/17 [==============================] - 0s 16ms/step - loss: 0.4467 - accuracy: 0.7821 - val_loss: 0.4839 - val_accuracy: 0.7874\n",
            "Epoch 54/100\n",
            "17/17 [==============================] - 0s 15ms/step - loss: 0.4461 - accuracy: 0.7782 - val_loss: 0.4837 - val_accuracy: 0.7874\n",
            "Epoch 55/100\n",
            "17/17 [==============================] - 0s 12ms/step - loss: 0.4452 - accuracy: 0.7802 - val_loss: 0.4838 - val_accuracy: 0.7874\n",
            "Epoch 56/100\n",
            "17/17 [==============================] - 0s 12ms/step - loss: 0.4444 - accuracy: 0.7802 - val_loss: 0.4837 - val_accuracy: 0.7874\n",
            "Epoch 57/100\n",
            "17/17 [==============================] - 0s 12ms/step - loss: 0.4435 - accuracy: 0.7782 - val_loss: 0.4837 - val_accuracy: 0.7835\n",
            "Epoch 58/100\n",
            "17/17 [==============================] - 0s 6ms/step - loss: 0.4428 - accuracy: 0.7743 - val_loss: 0.4838 - val_accuracy: 0.7874\n",
            "Epoch 59/100\n",
            "17/17 [==============================] - 0s 8ms/step - loss: 0.4419 - accuracy: 0.7743 - val_loss: 0.4838 - val_accuracy: 0.7913\n",
            "Epoch 60/100\n",
            "17/17 [==============================] - 0s 7ms/step - loss: 0.4413 - accuracy: 0.7743 - val_loss: 0.4848 - val_accuracy: 0.7874\n",
            "Epoch 61/100\n",
            "17/17 [==============================] - 0s 6ms/step - loss: 0.4407 - accuracy: 0.7763 - val_loss: 0.4847 - val_accuracy: 0.7835\n",
            "Epoch 62/100\n",
            "17/17 [==============================] - 0s 8ms/step - loss: 0.4402 - accuracy: 0.7763 - val_loss: 0.4846 - val_accuracy: 0.7795\n",
            "Epoch 63/100\n",
            "17/17 [==============================] - 0s 8ms/step - loss: 0.4394 - accuracy: 0.7743 - val_loss: 0.4844 - val_accuracy: 0.7795\n",
            "Epoch 64/100\n",
            "17/17 [==============================] - 0s 9ms/step - loss: 0.4388 - accuracy: 0.7743 - val_loss: 0.4844 - val_accuracy: 0.7795\n",
            "Epoch 65/100\n",
            "17/17 [==============================] - 0s 12ms/step - loss: 0.4380 - accuracy: 0.7743 - val_loss: 0.4846 - val_accuracy: 0.7795\n",
            "Epoch 66/100\n",
            "17/17 [==============================] - 0s 6ms/step - loss: 0.4375 - accuracy: 0.7743 - val_loss: 0.4844 - val_accuracy: 0.7795\n",
            "Epoch 67/100\n",
            "17/17 [==============================] - 0s 6ms/step - loss: 0.4371 - accuracy: 0.7704 - val_loss: 0.4842 - val_accuracy: 0.7756\n",
            "Epoch 68/100\n",
            "17/17 [==============================] - 0s 8ms/step - loss: 0.4364 - accuracy: 0.7743 - val_loss: 0.4837 - val_accuracy: 0.7756\n",
            "Epoch 69/100\n",
            "17/17 [==============================] - 0s 8ms/step - loss: 0.4359 - accuracy: 0.7724 - val_loss: 0.4837 - val_accuracy: 0.7835\n",
            "Epoch 70/100\n",
            "17/17 [==============================] - 0s 9ms/step - loss: 0.4352 - accuracy: 0.7763 - val_loss: 0.4838 - val_accuracy: 0.7756\n",
            "Epoch 71/100\n",
            "17/17 [==============================] - 0s 8ms/step - loss: 0.4345 - accuracy: 0.7763 - val_loss: 0.4838 - val_accuracy: 0.7717\n",
            "Epoch 72/100\n",
            "17/17 [==============================] - 0s 12ms/step - loss: 0.4340 - accuracy: 0.7743 - val_loss: 0.4839 - val_accuracy: 0.7756\n",
            "Epoch 73/100\n",
            "17/17 [==============================] - 0s 9ms/step - loss: 0.4335 - accuracy: 0.7704 - val_loss: 0.4845 - val_accuracy: 0.7795\n",
            "Epoch 74/100\n",
            "17/17 [==============================] - 0s 8ms/step - loss: 0.4331 - accuracy: 0.7704 - val_loss: 0.4846 - val_accuracy: 0.7795\n",
            "Epoch 75/100\n",
            "17/17 [==============================] - 0s 7ms/step - loss: 0.4327 - accuracy: 0.7704 - val_loss: 0.4844 - val_accuracy: 0.7795\n",
            "Epoch 76/100\n",
            "17/17 [==============================] - 0s 10ms/step - loss: 0.4322 - accuracy: 0.7724 - val_loss: 0.4846 - val_accuracy: 0.7795\n",
            "Epoch 77/100\n",
            "17/17 [==============================] - 0s 10ms/step - loss: 0.4317 - accuracy: 0.7724 - val_loss: 0.4841 - val_accuracy: 0.7756\n",
            "Epoch 78/100\n",
            "17/17 [==============================] - 0s 7ms/step - loss: 0.4316 - accuracy: 0.7743 - val_loss: 0.4847 - val_accuracy: 0.7756\n",
            "Epoch 79/100\n",
            "17/17 [==============================] - 0s 7ms/step - loss: 0.4311 - accuracy: 0.7724 - val_loss: 0.4847 - val_accuracy: 0.7756\n",
            "Epoch 80/100\n",
            "17/17 [==============================] - 0s 9ms/step - loss: 0.4307 - accuracy: 0.7763 - val_loss: 0.4850 - val_accuracy: 0.7756\n",
            "Epoch 81/100\n",
            "17/17 [==============================] - 0s 11ms/step - loss: 0.4302 - accuracy: 0.7724 - val_loss: 0.4854 - val_accuracy: 0.7717\n",
            "Epoch 82/100\n",
            "17/17 [==============================] - 0s 7ms/step - loss: 0.4301 - accuracy: 0.7763 - val_loss: 0.4854 - val_accuracy: 0.7756\n",
            "Epoch 83/100\n",
            "17/17 [==============================] - 0s 8ms/step - loss: 0.4297 - accuracy: 0.7782 - val_loss: 0.4857 - val_accuracy: 0.7717\n",
            "Epoch 84/100\n",
            "17/17 [==============================] - 0s 9ms/step - loss: 0.4292 - accuracy: 0.7763 - val_loss: 0.4860 - val_accuracy: 0.7795\n",
            "Epoch 85/100\n",
            "17/17 [==============================] - 0s 8ms/step - loss: 0.4289 - accuracy: 0.7763 - val_loss: 0.4861 - val_accuracy: 0.7835\n",
            "Epoch 86/100\n",
            "17/17 [==============================] - 0s 7ms/step - loss: 0.4285 - accuracy: 0.7782 - val_loss: 0.4861 - val_accuracy: 0.7795\n",
            "Epoch 87/100\n",
            "17/17 [==============================] - 0s 6ms/step - loss: 0.4280 - accuracy: 0.7802 - val_loss: 0.4866 - val_accuracy: 0.7795\n",
            "Epoch 88/100\n",
            "17/17 [==============================] - 0s 6ms/step - loss: 0.4277 - accuracy: 0.7782 - val_loss: 0.4866 - val_accuracy: 0.7835\n",
            "Epoch 89/100\n",
            "17/17 [==============================] - 0s 6ms/step - loss: 0.4273 - accuracy: 0.7782 - val_loss: 0.4869 - val_accuracy: 0.7835\n",
            "Epoch 90/100\n",
            "17/17 [==============================] - 0s 6ms/step - loss: 0.4270 - accuracy: 0.7782 - val_loss: 0.4875 - val_accuracy: 0.7795\n",
            "Epoch 91/100\n",
            "17/17 [==============================] - 0s 6ms/step - loss: 0.4265 - accuracy: 0.7802 - val_loss: 0.4869 - val_accuracy: 0.7795\n",
            "Epoch 92/100\n",
            "17/17 [==============================] - 0s 7ms/step - loss: 0.4261 - accuracy: 0.7821 - val_loss: 0.4871 - val_accuracy: 0.7795\n",
            "Epoch 93/100\n",
            "17/17 [==============================] - 0s 7ms/step - loss: 0.4259 - accuracy: 0.7802 - val_loss: 0.4874 - val_accuracy: 0.7795\n",
            "Epoch 94/100\n",
            "17/17 [==============================] - 0s 7ms/step - loss: 0.4255 - accuracy: 0.7821 - val_loss: 0.4866 - val_accuracy: 0.7795\n",
            "Epoch 95/100\n",
            "17/17 [==============================] - 0s 11ms/step - loss: 0.4256 - accuracy: 0.7782 - val_loss: 0.4871 - val_accuracy: 0.7756\n",
            "Epoch 96/100\n",
            "17/17 [==============================] - 0s 6ms/step - loss: 0.4252 - accuracy: 0.7802 - val_loss: 0.4869 - val_accuracy: 0.7795\n",
            "Epoch 97/100\n",
            "17/17 [==============================] - 0s 6ms/step - loss: 0.4250 - accuracy: 0.7802 - val_loss: 0.4871 - val_accuracy: 0.7795\n",
            "Epoch 98/100\n",
            "17/17 [==============================] - 0s 9ms/step - loss: 0.4248 - accuracy: 0.7802 - val_loss: 0.4870 - val_accuracy: 0.7795\n",
            "Epoch 99/100\n",
            "17/17 [==============================] - 0s 6ms/step - loss: 0.4246 - accuracy: 0.7879 - val_loss: 0.4873 - val_accuracy: 0.7795\n",
            "Epoch 100/100\n",
            "17/17 [==============================] - 0s 11ms/step - loss: 0.4246 - accuracy: 0.7821 - val_loss: 0.4875 - val_accuracy: 0.7795\n"
          ]
        },
        {
          "output_type": "execute_result",
          "data": {
            "text/plain": [
              "<keras.src.callbacks.History at 0x7b36cb968d60>"
            ]
          },
          "metadata": {},
          "execution_count": 22
        }
      ]
    },
    {
      "cell_type": "markdown",
      "source": [
        "lets figure out what willl be the right number of neurons"
      ],
      "metadata": {
        "id": "bOUkxZQUR8RD"
      }
    },
    {
      "cell_type": "code",
      "source": [
        "def build_model(hp):\n",
        "  model = Sequential()\n",
        "\n",
        "  units = hp.Int('units', min_value=8, max_value=128)\n",
        "\n",
        "  model.add(Dense(units=units, activation='relu', input_dim=8))\n",
        "  model.add(Dense(1,activation='sigmoid'))\n",
        "\n",
        "  model.compile(optimizer='rmsprop', loss='binary_crossentropy', metrics=['accuracy'])\n",
        "\n",
        "  return model"
      ],
      "metadata": {
        "id": "_CLy06GsR739"
      },
      "execution_count": null,
      "outputs": []
    },
    {
      "cell_type": "code",
      "source": [
        "tuner = kt.RandomSearch(build_model, objective='val_accuracy',max_trials=5,\n",
        "                        directory='mydir',\n",
        "                        project_name='joydeep')\n"
      ],
      "metadata": {
        "id": "6CtimmS9XZq9"
      },
      "execution_count": null,
      "outputs": []
    },
    {
      "cell_type": "code",
      "source": [
        "tuner.search(X_train,y_train,epochs=5,validation_data=(X_test,y_test))"
      ],
      "metadata": {
        "id": "vcLsYxXMONJa",
        "colab": {
          "base_uri": "https://localhost:8080/"
        },
        "outputId": "ce1954c9-965b-4ee5-d699-abb1b8b1c2f8"
      },
      "execution_count": null,
      "outputs": [
        {
          "output_type": "stream",
          "name": "stdout",
          "text": [
            "Trial 5 Complete [00h 00m 01s]\n",
            "val_accuracy: 0.748031497001648\n",
            "\n",
            "Best val_accuracy So Far: 0.7755905389785767\n",
            "Total elapsed time: 00h 00m 15s\n"
          ]
        }
      ]
    },
    {
      "cell_type": "code",
      "source": [
        "tuner.get_best_hyperparameters()[0].values()"
      ],
      "metadata": {
        "colab": {
          "base_uri": "https://localhost:8080/",
          "height": 175
        },
        "id": "xfqS4YljOWzh",
        "outputId": "740d4d0b-9831-41d9-99c8-eb8541df5c24"
      },
      "execution_count": null,
      "outputs": [
        {
          "output_type": "error",
          "ename": "TypeError",
          "evalue": "ignored",
          "traceback": [
            "\u001b[0;31m---------------------------------------------------------------------------\u001b[0m",
            "\u001b[0;31mTypeError\u001b[0m                                 Traceback (most recent call last)",
            "\u001b[0;32m<ipython-input-28-42fe5cf91f1f>\u001b[0m in \u001b[0;36m<cell line: 1>\u001b[0;34m()\u001b[0m\n\u001b[0;32m----> 1\u001b[0;31m \u001b[0mtuner\u001b[0m\u001b[0;34m.\u001b[0m\u001b[0mget_best_hyperparameters\u001b[0m\u001b[0;34m(\u001b[0m\u001b[0;34m)\u001b[0m\u001b[0;34m[\u001b[0m\u001b[0;36m0\u001b[0m\u001b[0;34m]\u001b[0m\u001b[0;34m.\u001b[0m\u001b[0mvalues\u001b[0m\u001b[0;34m(\u001b[0m\u001b[0;34m)\u001b[0m\u001b[0;34m\u001b[0m\u001b[0;34m\u001b[0m\u001b[0m\n\u001b[0m",
            "\u001b[0;31mTypeError\u001b[0m: 'dict' object is not callable"
          ]
        }
      ]
    },
    {
      "cell_type": "code",
      "source": [
        "model = tuner.get_best_models(num_models=1)[0]"
      ],
      "metadata": {
        "id": "jWZFZIfGPmTJ"
      },
      "execution_count": null,
      "outputs": []
    },
    {
      "cell_type": "markdown",
      "source": [
        "no of layers"
      ],
      "metadata": {
        "id": "QdXtgvETSkHJ"
      }
    },
    {
      "cell_type": "code",
      "source": [
        "def build_model(hp):\n",
        "  model = Sequential()\n",
        "\n",
        "\n",
        "\n",
        "\n",
        "\n",
        "  units = hp.Int('units', min_value=8, max_value=128)\n",
        "\n",
        "  model.add(Dense(units=units, activation='relu', input_dim=8))\n",
        "  model.add(Dense(1,activation='sigmoid'))\n",
        "\n",
        "  model.compile(optimizer='rmsprop', loss='binary_crossentropy', metrics=['accuracy'])\n",
        "\n",
        "  return model"
      ],
      "metadata": {
        "id": "gOUq_vScRyYY"
      },
      "execution_count": null,
      "outputs": []
    }
  ]
}